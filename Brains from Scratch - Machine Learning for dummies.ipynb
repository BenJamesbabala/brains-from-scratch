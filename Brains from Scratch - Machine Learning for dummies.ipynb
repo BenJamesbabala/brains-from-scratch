{
 "cells": [
  {
   "cell_type": "markdown",
   "metadata": {},
   "source": [
    "# Brains from Scratch\n",
    "> Machine Learning for dummies - *Achilles Rasquinha*\n",
    "\n",
    "![](./img/cover.jpg)"
   ]
  },
  {
   "cell_type": "markdown",
   "metadata": {},
   "source": [
    "#### Q. What is this page all about?\n",
    "This is a one-page comprehensive publish that aims to help you learn and understand what **Machine Learning** is and the workings behind *\"how a machine thinks\"*, all right from scratch. We'll not only be building *learning/prediction models* together but also understand and realize the nuts-and-bolts that make it work.\n",
    "\n",
    "This also means that there is going to be exhaustive mathematics (linear algebra, calculus, etc.) throughout the way but do not be intimidated already if you aren't coming from a mathematical background. This publish also aims to teach you the mathematics behind learning models in the most simplest of terms present in the English language. I'll be using the keyword **ST** (for *in simpler terms*) to denote something hard to comprehend in the most simplest of terms. For instance,\n",
    "\n",
    "$$\\frac{dy}{dx}$$\n",
    "\n",
    "**ST**\n",
    "\n",
    "The notation above denotes an operation $\\frac{d}{dx}$ on a variable $y$ to realize *\"at what rate does $y$ change with respect to $x$\".* Assume the variable $y$ to be the anger temperament of your boss and $x$ to be your skills to mollify an individual well. If it were to be a perfect linear relation, the above factor would denote no appreciable rate of change whatsoever. \n",
    "\n",
    "***WARNING:*** Do not consider such \"simple english\" to solve various mathematical problems. Mathematics per se has a different way of expressing the world and is binded by its rules and grammar. Mathematics provides you reasoning that is universally accepted and is never ambiguous. By all means, you should never merge the two domains for problem solving. We'll try incorporating the basics behind the mathematics that is going to be used throughout this publish.\n",
    "\n",
    "We then remain true to our title - **Machine Learning for dummies**\n",
    "\n",
    "***PS:*** Do not be disheartened by the word dummies. We aim to present this publish even for those who aren't able make sense of all that scientific textbook jargon.\n",
    "\n",
    "This publish will be regularly updated over the course of time, attempting to learn and build new models and solve problems. You can keep track of these updates in the [What's new?](#What's-new?) section."
   ]
  },
  {
   "cell_type": "markdown",
   "metadata": {},
   "source": [
    "## $ whoami"
   ]
  },
  {
   "cell_type": "markdown",
   "metadata": {},
   "source": [
    "<img src=\"./img/author.png\" style=\"float: left; padding-left: 10px; padding-right: 10px;\">\n",
    "Hi, I'm Achilles Rasquinha.\n",
    "\n",
    "I'm currently an undergraduate at the Department of Computer Engineering, University of Mumbai and expected to graduate in the year 2017.\n",
    "\n",
    "You can contact me in the following ways, I'd be happy to help!\n",
    "\n",
    "Type    |Description                \n",
    "--------|---------------------------\n",
    "Email   |achillesrasquinha@gmail.com\n",
    "Facebook|[www.facebook.com/rasquinhaachilles](https://www.facebook.com/rasquinhaachilles)\n",
    "LinkedIn|[www.linkedin.com/in/achillesrasquinha](https://www.linkedin.com/in/achillesrasquinha)\n",
    "GitHub  |[www.github.com/achillesrasquinha](https://www.github.com/achillesrasquinha)"
   ]
  },
  {
   "cell_type": "markdown",
   "metadata": {},
   "source": [
    "## Acknowledgements\n",
    "I'd like to thank my Professor - Mrs. Anuradha Srinivas for introducing me first into the field of Machine Learning and also helping me engage in solving a wide range of problems within the domain. I'd also like to thank my Professor - Mrs. Vincy Joseph for being a supportive guide and mentor as I work on my Bachelor's thesis on *Image Context Analysis and Contextual Caption Generation Using RNNs/LSTMs*."
   ]
  },
  {
   "cell_type": "markdown",
   "metadata": {},
   "source": [
    "Without further ado, let's get started."
   ]
  },
  {
   "cell_type": "markdown",
   "metadata": {},
   "source": [
    "## Prerequisites\n",
    "\n",
    "**Choice of Programming Language**\n",
    "\n",
    "![](https://imgs.xkcd.com/comics/python.png)\n",
    "\n",
    "Image Source: [xkcd](http://xkcd.com/)\n",
    "\n",
    "Solving complex mathematical problems require some state-of-the-art tools, especially when it comes to the field of Machine Learning. We'll be implementing our models and perform our analysis using one such tool (to be precise, a programming language) - **Python**.\n",
    "\n",
    "But, why Python?\n",
    "\n",
    "Simply because of its *\"english-like\"* code structure that attempts to somewhat make linguistic sense to people who may have never written a single line of code. Moreover, Python comes with a wide range of scientific computing libraries (for linear algebra computations, calculus, graph visualizations, etc.) which we'll be using throughout our way.\n",
    "\n",
    "Finally (and this is my favourite), we've chosen Python because of its high rate of productivity. Python has a high rate of productivity by ***minimizing the number of lines of code*** (in Computer Science, we call this unit - LOC) to write some logic, in comparision to other programming languages such as C++, Java, etc. [[1]](#References) Performance wise, the latter perform way better than Python (in terms of time and space complexity). We're however not keen in optimizing our code (by choice of language) but with the said limitations, we'll try out best to.\n",
    "Also, Python is a general-purpose high programming language.\n",
    "\n",
    "So Python does seem to fit the jig-saw.\n",
    "\n",
    "**Recommended Books**"
   ]
  },
  {
   "cell_type": "markdown",
   "metadata": {},
   "source": [
    "## What's new?\n",
    "* October 28th, 2016\n",
    "    - Introduction to Genetic Algorithms\n",
    "    - Kaggling\n",
    "    - Case Study 1: Performance Analysis of k-NN, ANN and SVM Classifiers for Cotton Germplasm Classification\n",
    "* October 15th, 2016\n",
    "    - Introduction to Artificial Neural Networks.\n",
    "    - Implementation of various Activation Functions.\n",
    "    - Implementation of `class ANN`.\n",
    "    - Introduction to Recurrent Neural Networks.\n",
    "* October 12th, 2016\n",
    "    - Introduction to Gradient Descent Optimization.\n",
    "* October 11th, 2016\n",
    "    - Published \"Brains from Scratch - Machine Learning for dummies\".\n",
    "    - Introduction to Machine Learning.\n",
    "    - Types of Learning, Introudced Supervised Learning and its problem types.\n",
    "    - Introduction to our first Machine Learning model - Linear Regression."
   ]
  },
  {
   "cell_type": "markdown",
   "metadata": {},
   "source": [
    "## Index\n",
    "1. [Introduction](#1.-Introduction)\n",
    "    1. [What is Machine Learning?](#1.A.-What-is-Machine-Learning?)\n",
    "-  [Types of Learning](#2.-Types-of-Learning)\n",
    "    1. [Supervised Learning](#2.A.-Supervised-Learning)\n",
    "        1. [Regression](#2.A.a.-Regression)\n",
    "            1. [Linear Regression](#2.A.a.i.-Linear-Regression)\n",
    "            \n",
    "Case Studies\n",
    "1. [*Performance Analysis of k-NN, ANN and SVM Using Cotton Germplasm Classification*](#Case-Study-1)\n",
    "\n",
    "Projects\n",
    "1. [*Image Context Analysis and Contextual Caption Generation Using RNNs/LSTMs*](#Project-1)"
   ]
  },
  {
   "cell_type": "markdown",
   "metadata": {},
   "source": [
    "## Mind Map\n",
    "In order to build a learning path for ourselves, I've created a mind map that can be viewed over [here](https://www.mindmeister.com/786639893/machine-learning)."
   ]
  },
  {
   "cell_type": "markdown",
   "metadata": {},
   "source": [
    "## 1. Introduction\n",
    "### 1.A. What is Machine Learning?\n",
    "![Source www.dilbert.com](http://i.stack.imgur.com/k2eEh.gif)\n",
    "\n",
    "Machine Learning is when **\"a machine turns a statistician\"**. Machine Learning is when a computer observes you while you clean your house (the way you hold your mop, the way you sway it over the floor) and mimicks (well, almost) the steps you performed while you cleaned. Not just that, it may even outperform in terms of tidiness or maybe perform novel ways of cleaning that you weren't even aware of. Machine Learning is when a computer observes you drive (the way you percieve roads) and later attempts to drive a car all by itself (we call it today - Autonomous Driving, a subject that had its seed planted in the 1980s) [[2]](#References)\n",
    "\n",
    "Machine Learning is when a machine learns to humanly walk after observing a human walking; **it is also the field when the machine may jaywalk after observing a group of people jaywalking**. This means that we're never expecting a *global truth* or *moral code* from a machine but rather what *truth* and *beliefs* we wish it must follow. At times, the machine may itself find plausible *truths* that is beyond the capabilities of individual observance and thinking (What does it mean to be human? How was the universe formed? etc.)\n",
    "\n",
    "**A machine may be *trained* to even be a sexist**. [[3]](#References)\n",
    "\n",
    "Here's what Microsoft AI chatbot @TayandYou had to say about *feminism* after recieveing *learning feedbacks* from Twitter trolls.\n",
    "> *I fucking hate feminists and they should all die and burn in hell.*\n",
    "\n",
    "***NOTE:*** I do not endorse any kind of Microsoft products.\n",
    "\n",
    "So yes, machines are beautiful and maybe even dangerous. But so are humans. The fear that these machines might someday take over the world (Stephen Hawking thinks it might) [[4]](#References) is no less compared to that of the fear for a next human genocide, planned by humans themselves.\n",
    "\n",
    "Machines and mathematical models are a reflection of us and the world we live in. So the fear for machines exhibiting immoral behaviour merely highlights the flaws we humans exhibit. Our goal is however, to build machines that truly exhibit some desired behaviour and that is universally accepted.\n",
    "\n",
    "#### Q. \"Hey! All this philosophy is going nowhere. What exactly is machine learning?\" \n",
    "**Definition**\n",
    "> A computer program is said to learn from experience E with respect to some task T and some performance measure P if its performance on T, as measured by P, improves with experience E.\n",
    "\n",
    "> *Tom Mitchell, Machine Learning*\n",
    "\n",
    "In simple terms, Machine Learning is mapping a variable $x$ (or a set of them) to a variable $y$ (or a set of them) based on its observations of many $x$'s or many $y$'s. You could either direct the machine to move towards the desired $y$ or may leave it alone to discover.\n",
    "\n",
    "To help you understand better, consider each instance from a data set to be one of the many opinions of the members of House of Commons whereas the learning model is the House's Speaker for that session. I consider John Bercow (the current Speaker for the House of Commons) as a fine example. \n",
    "\n",
    "***NOTE:*** I ain't British. One doesn't necessarily need to be British to enjoy the hilarity that arises during Prime Minister's Questions.\n",
    "\n",
    "![](http://66.media.tumblr.com/70e9a137a800ced3d5fd0f8fec20f399/tumblr_nqf83qWw2x1uwvf4go1_1280.jpg)\n",
    "\n",
    "Each member has his or her own say. Some members have a collective say and some may have an exclusive opinion. Members of the Parliament aim to rant their best over a subject in order to influence members of the House (our data set) as well as the Speaker. Based on how effective each member's opinions are relates to the Speaker being influenced by their opinions. One member's opinion may pull a Speaker's decision on one given direction while the other towards another. A collective analysis (either inferencing from some *general truth* or *his/her observance so far*) helps the Speaker of the House to profess his or her conclusions.\n",
    " \n",
    "Machine Learning models are no different from the Speaker of the House. Like the Speaker, a learning model does not caste its own vote and is nothing without a given say (a data set). It is however influenced by the very nature of data that pulls it towards different directions. Like the House of Commons filled with effective and mundane opinions, we conclude that it is in one's best interest for a goal decision if each of the opinons are extremely effective and not merely how many opinions were put forward during the convention. (In the House of Commons, this seems to be the extreme opposite).\n",
    "\n",
    "By this we mean to say that having a large data set does not necessarily yeild a well-learned model but rather a qualitative data set along with the choices of effective $x$'s and $y$'s is what helps a machine make great conclusions."
   ]
  },
  {
   "cell_type": "markdown",
   "metadata": {},
   "source": [
    "## 2. Types of Learning\n",
    "We categorize learning into two kinds\n",
    "### 2.A. Supervised Learning\n",
    "As the word suggests, supervised learning attempts to comapre the expected $y$ and the $y$ it has generated for a given $x$, thereby modifying its learning unit such that it comes closer towards the expected output the next time. In simpler terms, a supervised learning algorithm is provided ***what is expected from the model***.\n",
    "\n",
    "#### Traning and Testing Sets\n",
    "A training set is nothing but a portion of a data set we're going to work on and feed into the model. It's never advisable to feed the entire data set into our learning model which is why there exists yet another set called as the testing set that is used to observe whether our learning model predicts well or not.\n",
    "\n",
    "We known that the cardinality (number of elements) of a set (a collection of non-repititive elements) can be given by\n",
    "$$|S| = n$$\n",
    "where $S$ is a set and $n$ is its cardinality.\n",
    "\n",
    "We define a given training set with the notation $Tr$ and its cardinality $|Tr| = u$. Similarly, we define the notation $Te$ and its cardinality $|Te| = v$ for a testing set.\n",
    "\n",
    "We'll be dealing almost always with a multivariate system, i.e. many variables affect the learning unit of our model. Hence,\n",
    "We denote $x_{j}$ to be our input $j$ in our input vector $X$ of length $m$ and $y_{k}$ to be our output $k$ in our output vector $Y$ of length $n$\n",
    "\n",
    "To denote a sample from the training or testing set we define the notation as,\n",
    "$$S(\\{x_{j}^{(i)}\\}, \\{y_{k}^{(i)}\\})$$\n",
    "where S could be $Tr$ or $Te$ and the tuple $(\\{x_{j}^{(i)}\\}, \\{y_{k}^{(i)}\\})$ is nothing but the $i_{th}$ sample of set $S$ denoting an input vector $\\{x_{j}^{(i)}\\}$ and its corresponding output vector $\\{y_{k}^{(i)}\\}$. $j$ and $k$ denote our selected attributes from the input and output vectors respectively.\n",
    "\n",
    "#### Modelling\n",
    "Our model aims to predict output(s) $y$ based on some input(s) $x$. We define this function mapping as\n",
    "\n",
    "$$\\{y_{k}^{(i)}\\} = predict_{\\theta}(\\{x_{j}^{(i)}\\})$$\n",
    "\n",
    "Our prediction model depends not only on the input vector $X$ but also a set of parameters $\\theta = \\{{\\theta_{p}}\\}$ where $p$ ranges from 0 to $o$, $o$ being the cardinality of the parameter vector $\\theta$, i.e. the number of parameters affecting the function $predict$"
   ]
  },
  {
   "cell_type": "code",
   "execution_count": null,
   "metadata": {
    "collapsed": true
   },
   "outputs": [],
   "source": [
    "from abc import ABCMeta, abstractmethod"
   ]
  },
  {
   "cell_type": "code",
   "execution_count": null,
   "metadata": {
    "collapsed": false
   },
   "outputs": [],
   "source": [
    "class Model(metaclass = ABCMeta):\n",
    "    @abstractmethod\n",
    "    def predict(self, features, parameters):\n",
    "        pass"
   ]
  },
  {
   "cell_type": "markdown",
   "metadata": {},
   "source": [
    "We could further classify supervised learning into two kinds of problems.\n",
    "\n",
    "#### 2.A.a. Regression\n",
    "Let's consider a data set to work on in order to understand what Regression is all about. `scikit-learn` (a machine learning library in Python) provides many toy data sets and we'll consider one of them - the **Boston House Pricing** data set provided under `load_boston()`. University of California, Irvine provides a wide range of open data set repositories to work on, the Housing Prices being one. [[5]](#References)"
   ]
  },
  {
   "cell_type": "code",
   "execution_count": null,
   "metadata": {
    "collapsed": false
   },
   "outputs": [],
   "source": [
    "from sklearn.datasets import load_boston\n",
    "\n",
    "boston  = load_boston()"
   ]
  },
  {
   "cell_type": "markdown",
   "metadata": {},
   "source": [
    "Let's visualize our data set considering the relationship between *average number of rooms per dwelling* and the corresponding house prices. We'll be using `matplotlib` for graph visualizations and `plotly` for interactive plotting."
   ]
  },
  {
   "cell_type": "code",
   "execution_count": null,
   "metadata": {
    "collapsed": false
   },
   "outputs": [],
   "source": [
    "import matplotlib.pyplot as plt\n",
    "import seaborn as sns"
   ]
  },
  {
   "cell_type": "markdown",
   "metadata": {},
   "source": [
    "We can visualize our data set using a simple scatter plot."
   ]
  },
  {
   "cell_type": "code",
   "execution_count": null,
   "metadata": {
    "collapsed": false
   },
   "outputs": [],
   "source": [
    "npoints = 20                          # number of points to observe\n",
    "X       = boston.data[:,5][:npoints]  # average number of rooms per dwelling\n",
    "y       = boston.target[:npoints]\n",
    "\n",
    "fig, ax = plt.subplots()\n",
    "\n",
    "ax.scatter(X, y)\n",
    "\n",
    "ax.set_title('Boston House Pricing')\n",
    "\n",
    "ax.set_xlabel('Avg. number of rooms per dwelling')\n",
    "ax.set_ylabel('Housing value')\n",
    "\n",
    "plt.show()"
   ]
  },
  {
   "cell_type": "markdown",
   "metadata": {},
   "source": [
    "Notice how the plot seems to be dispersed. We can somewhat visualize that there is an increase in the housing value with an increase of average number of rooms per dwelling for the limited data that we've observed. If we were to estimate a given value for $x$ would result in a unique value (real or whole) for $y$. This is known as a **regression** problem, i.e. the function which attempts to estimate for a given value of $x$ is a continous function. We could then somewhat fit a line or draw a curve that passes through almost all the points on the scatter plot and aim to estimate approximately well for any given input $x$.\n",
    "\n",
    "Machine Learning is all about building that model of estimation/prediction. The example states to build a model that can **draw a line** (a polynomial equation to be precise) across these points in order to maximize the *closeness* with $y$ for any given $x$. Such a model is called as a Linear Regression model which we'll discuss further. (In the case above, we have a single variable $x$ and hence is a univariate problem)"
   ]
  },
  {
   "cell_type": "markdown",
   "metadata": {},
   "source": [
    "#### 2.A.a.i. Linear Regression\n",
    "\n",
    "In its simplest sense, a Linear Regressor attempts to find the best fit line that can be drawn from a given set of features (or inputs) with respect to a given set of labels (or outputs).\n",
    "\n",
    "As mentioned, a Supervised Learning algorithms maps a feature $x$ to $y$ through a function $predict$. We can then define a $predict$ function for a Multivariate Linear Regressor as\n",
    "$$predict_{\\theta}(x_{j}^{(i)}) = \\sum_{j = 0}^{m}\\theta_{j}x_{j}^{(i)}$$\n",
    "where $j = [0, m]$ and $x_{0}^{(i)} = 1$\n",
    "\n",
    "In a vector notation we can then denote the above equation as\n",
    "$$predict_{\\theta}(X^{(i)}) = \\theta^{T}X^{(i)}$$\n",
    "\n",
    "where $X$ is a vector of shape $[1, m + 1]$ whereas $\\theta^T$ is a vector of shape $[m + 1, 1]$."
   ]
  },
  {
   "cell_type": "code",
   "execution_count": null,
   "metadata": {
    "collapsed": false
   },
   "outputs": [],
   "source": [
    "class LinearRegression(Model):\n",
    "    '''\n",
    "    DESCRIPTION:\n",
    "    \n",
    "    Parameters\n",
    "    features   - a testing set of size (nsamples, nfeatures)\n",
    "                 each sample within the set consists of a vector of size (1, nfeatures)\n",
    "    parameters - a parameter set of size (1, nfeatures + 1)\n",
    "    '''\n",
    "    def predict(self, features, parameters):\n",
    "        labels = [ ]\n",
    "        \n",
    "        for i in features:\n",
    "            i = np.asarray(i)       # convert to array if single-valued\n",
    "            i = np.insert(i, 0, 1)  # insert x0 = 1 into our feature vector\n",
    "            \n",
    "            p = np.atleast_2d(parameters)\n",
    "            \n",
    "            y = np.dot(np.transpose(p), i)\n",
    "            \n",
    "            labels.append(y)\n",
    "            \n",
    "        return labels"
   ]
  },
  {
   "cell_type": "markdown",
   "metadata": {},
   "source": [
    "#### Q. \"Argh! This seems to make no sense.\"\n",
    "**ST**\n",
    "\n",
    "For a Univariate Linear Regressor (like the example above) i.e. for $j = 0$ and for $j = 1$, the predict function would be:\n",
    "\n",
    "$$predict_{\\theta}(x_{1}^{(i)}) = \\theta_{0} + \\theta_{1}x_{1}^{(i)}$$\n",
    "\n",
    "knowing that $x_{0}^{(i)} = 1$\n",
    "\n",
    "The above equation is **similar to that of the equation of a line in a two-dimensional space** with $\\theta_{0}$ being the y-intercept (how high or low it is from $y = 0$) and $\\theta_{1}$ being the slope (steepness) of our line. The generalized equation extends this linear incisiveness to higher dimensions that cannot be visualized. The univariate equation help us to understand the fundamentals behind linear predictive models and how it attempts to *\"draw fine distinctions\"*.\n",
    "\n",
    "For the sake of a clear explanation, we'll consider a Univariate Linear Regressor that can be extended towards a higher dimensional vector space."
   ]
  },
  {
   "cell_type": "markdown",
   "metadata": {},
   "source": [
    "#### Problem Statement 1\n",
    "> *Justice Delayed is Justice Piled: A predictive model for the Indian Judiciary System*\n",
    "\n",
    "For our explanation, we'll be considering a data set ***\"Crime against Women during 2014 in India\"*** published by the Government of India on their website [www.data.gov.in](www.data.gov.in) under the Digital India initiative. We'll be considering data sets from various platforms in order to learn and observe (and maybe, find reasons and solutions to problems that can be visualized through the data set). The data set is open to use and can be downloaded from [here](https://data.gov.in/catalog/crime-against-women).\n",
    "\n",
    "We'll be using Pandas' (a Python library for Data Analysis) DataFrame Object that helps us to load, view and perform operations on our data set."
   ]
  },
  {
   "cell_type": "code",
   "execution_count": null,
   "metadata": {
    "collapsed": true
   },
   "outputs": [],
   "source": [
    "import pandas as pd"
   ]
  },
  {
   "cell_type": "markdown",
   "metadata": {},
   "source": [
    "Imagine if the employees of the Indian Judiciary System would like to know the number of cases that may be pending for investigation at the end of the year by knowing the number of cases that were pending investigation the year before.\n",
    "\n",
    "In simpler terms, *By how much will the burden of the Judiciary System rise for cases of crimes against women by the end of the year?*\n",
    "In order to serve justice well and as early as possible to victims of the crimes, our goal would be to decrease the number of pending investigations for the year in comparision to what our learning model (our Linear Regressor) predicts."
   ]
  },
  {
   "cell_type": "markdown",
   "metadata": {},
   "source": [
    "Let's load our data set into a Pandas' DataFrame Object"
   ]
  },
  {
   "cell_type": "code",
   "execution_count": null,
   "metadata": {
    "collapsed": true
   },
   "outputs": [],
   "source": [
    "path = './data/crimes-against-women-india-2014.csv'\n",
    "df   = pd.read_csv(path)"
   ]
  },
  {
   "cell_type": "markdown",
   "metadata": {},
   "source": [
    "We shall consider the overall aggregate number of crimes across all States and Union Territories of India."
   ]
  },
  {
   "cell_type": "code",
   "execution_count": null,
   "metadata": {
    "collapsed": true
   },
   "outputs": [],
   "source": [
    "df   = df[df['States/UTs'] == 'Total (All India)']"
   ]
  },
  {
   "cell_type": "markdown",
   "metadata": {},
   "source": [
    "Our model needs to predict the number of investigations pending at the end of the year if given the number of investigations pending from the year before. We can achieve these two variables in the following block of code."
   ]
  },
  {
   "cell_type": "code",
   "execution_count": null,
   "metadata": {
    "collapsed": false
   },
   "outputs": [],
   "source": [
    "import numpy as np\n",
    "\n",
    "column1 = 'Cases pending investigation from previous year'\n",
    "column2 = 'Cases pending investigation at the end of the year'\n",
    "\n",
    "X       = np.atleast_2d(df[column1]).T\n",
    "y       = np.atleast_2d(df[column2]).T"
   ]
  },
  {
   "cell_type": "markdown",
   "metadata": {},
   "source": [
    "Alright. Let's now view our data set using a simple scatter plot."
   ]
  },
  {
   "cell_type": "code",
   "execution_count": null,
   "metadata": {
    "collapsed": false,
    "scrolled": true
   },
   "outputs": [],
   "source": [
    "plt.scatter(X, y)\n",
    "\n",
    "plt.title('Crimes against women during 2014 in India')\n",
    "plt.xlabel(column1)\n",
    "plt.ylabel(column2)\n",
    "\n",
    "plt.grid()\n",
    "plt.show()"
   ]
  },
  {
   "cell_type": "markdown",
   "metadata": {},
   "source": [
    "By observing our graph above, we can very much infere that there exists a clear rising **linearity** between the two variables. To prove this, we can calculate the *Pearson product-moment correlation coefficient* which in simpler terms, checks the degree of linearilty between our two variables on a scale of $[-1, +1]$ where $-1$ denotes a perfect negative linear correlation, $0$ denotes no linear correlation and $+1$ denotes a perfect positive linear correlation."
   ]
  },
  {
   "cell_type": "markdown",
   "metadata": {},
   "source": [
    "SciPy has a neat function for Karl Pearson's product-moment correlation coefficient."
   ]
  },
  {
   "cell_type": "code",
   "execution_count": null,
   "metadata": {
    "collapsed": true
   },
   "outputs": [],
   "source": [
    "from scipy.stats import pearsonr"
   ]
  },
  {
   "cell_type": "code",
   "execution_count": null,
   "metadata": {
    "collapsed": false
   },
   "outputs": [],
   "source": [
    "r, p = pearsonr(X, y)\n",
    "r"
   ]
  },
  {
   "cell_type": "markdown",
   "metadata": {},
   "source": [
    "Very impressive. We've recieved a correlation coefficient of $\\approx 0.9988$ which states the high degree of linearity which exists in our data set. Our goal is to fit a best-fit line through the data observed which depends on our parameter set $\\theta$\n",
    "\n",
    "Let's consider a few cases for our parameter set $\\theta$\n",
    "\n",
    "Case 1: $\\theta_{0} = 15$ and $\\theta_{1} = 0.0$\n",
    "\n",
    "Case 2: $\\theta_{0} = 20$ and $\\theta_{1} = 0.5$\n",
    "\n",
    "Case 3: $\\theta_{0} = 23$ and $\\theta_{1} = 1.5$\n",
    "\n",
    "We can then plot the above parameters with respect to the prediction function as"
   ]
  },
  {
   "cell_type": "code",
   "execution_count": null,
   "metadata": {
    "collapsed": false
   },
   "outputs": [],
   "source": [
    "plt.scatter(X, y, marker = '1')\n",
    "\n",
    "parameters  = np.asarray([\n",
    "    [[15], [0.0]], # case 1 \n",
    "    [[20], [0.5]], # case 2\n",
    "    [[23], [1.5]]  # case 3\n",
    "], dtype = np.float32)\n",
    "\n",
    "regressor   = LinearRegression()\n",
    "legends     = [ ]\n",
    "predictions = [ ]\n",
    "\n",
    "for p in parameters:\n",
    "    prediction = regressor.predict(X, p)\n",
    "    \n",
    "    plt.plot(X, prediction)\n",
    "    \n",
    "    legends.append('$\\\\theta_{0} = %.2f$ and $\\\\theta_{1} = %.2f$' % (p[0], p[1]))\n",
    "    \n",
    "    predictions.append(prediction)\n",
    "    \n",
    "plt.legend(legends)\n",
    "\n",
    "plt.xlabel(column1)\n",
    "plt.ylabel('$predict_{\\\\theta}(x_{1}^{(i)}) = \\\\theta_{0} + \\\\theta_{1}x_{1}^{(i)}$')\n",
    "\n",
    "plt.grid()\n",
    "plt.show()"
   ]
  },
  {
   "cell_type": "markdown",
   "metadata": {},
   "source": [
    "We see that an increase in $\\theta_{0}$ raises the line above $y = 0$. Similarly an increase in $\\theta_{1}$ increases the radial shift of our line with respect to $x = 0$. Our goal is to choose $\\theta_{0}$ and $\\theta_{1}$ such that it is close to output $y$ for any given input $x$,\n",
    "\n",
    "i.e. the difference between the output from the prediction $predict_{\\theta}(x_{j}^{(i)})$ and $y_{k}^{(i)}$ must be mimimum. Hence, for a given training set with $m$ training samples, we could then estimate the difference in the errors (a cost function) by,\n",
    "\n",
    "$$C(\\theta) = \\frac{1}{2m}\\sum_{i = 1}^{m} (predict_{\\theta}(x^{(i)}) - y^{(i)})^{2}$$\n",
    "\n",
    "Such a function is also called as the Mean Squared Error."
   ]
  },
  {
   "cell_type": "code",
   "execution_count": null,
   "metadata": {
    "collapsed": true
   },
   "outputs": [],
   "source": [
    "def mean_squared_error(output, target, nsamples):\n",
    "    sum    = np.sum(np.power(np.subtract(output, target), 2))\n",
    "    result = (0.5 / nsamples) * sum\n",
    "    \n",
    "    return result"
   ]
  },
  {
   "cell_type": "markdown",
   "metadata": {},
   "source": [
    "**ST**\n",
    "\n",
    "The quadratic nature of the cost function speaks volumes. Squaring the difference helps us eliminate the positive and negative feedback of errors and at the same time increase the *spread* on a wide range. The factor $\\frac{1}{2}$ is multiplied with the mean cost since minimizing the overall error is same as minimizing half its error. A clear reason as to why we've chosen the MSE as our cost function will be discussed in some time.\n",
    "\n",
    "**Our job is to find a parameter set $\\theta$ that could minimize the cost function close or equal to 0.**\n",
    "\n",
    "Let's consider our Univariate Linear Regressor again, this time considering $\\theta_{0}$ constant (i.e., having no affect over our cost function $C(\\theta)$) and estimate the cost with respect to the parameters we've used.\n",
    "\n",
    "Knowing $\\theta_{0} = 0.0$"
   ]
  },
  {
   "cell_type": "code",
   "execution_count": null,
   "metadata": {
    "collapsed": false
   },
   "outputs": [],
   "source": [
    "from IPython.core.display import display, Math\n",
    "\n",
    "parameters  = np.array(\n",
    "    [[[0.0], [0.0]], # case 1\n",
    "     [[0.0], [0.5]], # case 2\n",
    "     [[0.0], [1.5]]] # case 3\n",
    ", dtype = np.float32)\n",
    "predictions = [ ]\n",
    "nsamples    = len(X)\n",
    "\n",
    "for p in parameters:\n",
    "    prediction = regressor.predict(X, p)\n",
    "    predictions.append(prediction)\n",
    "\n",
    "for i in range(len(predictions)):\n",
    "    error = mean_squared_error(predictions[i], y, nsamples)\n",
    "    display(Math(\"Case %i: C(%.2f, %.2f) = %.2e\" % (i + 1, parameters[i][0], parameters[i][1], error)))"
   ]
  },
  {
   "cell_type": "markdown",
   "metadata": {},
   "source": [
    "If we were to consider for a range of $\\theta_{1}$ values (keeping our $\\theta_{0}$ as it is), we can then plot a graph like the following"
   ]
  },
  {
   "cell_type": "code",
   "execution_count": null,
   "metadata": {
    "collapsed": false
   },
   "outputs": [],
   "source": [
    "import sys\n",
    "\n",
    "theta1    = np.arange(-10, 10, 0.1) # a range of theta1\n",
    "mintheta1 = sys.maxsize\n",
    "minerror  = sys.maxsize\n",
    "\n",
    "for t in theta1:\n",
    "    prediction = regressor.predict(X, [[0], [t]])\n",
    "    error      = mean_squared_error(prediction, y, nsamples)\n",
    "    \n",
    "    if error < minerror:\n",
    "        mintheta1 = t\n",
    "        minerror  = error\n",
    "    \n",
    "    plt.plot(t, error, marker = '.', c = 'b')\n",
    "\n",
    "plt.xlabel('$\\\\theta_{1}$')\n",
    "plt.ylabel('$C(\\\\theta_{1})$')\n",
    "\n",
    "plt.grid()\n",
    "plt.show()\n",
    "\n",
    "display(Math(\"C_{min}(0.00, %.2f) = %.2e\" % (mintheta1, minerror)))"
   ]
  },
  {
   "cell_type": "markdown",
   "metadata": {},
   "source": [
    "Woah! Check out that graph. We've got a smooth decrease from an error at around $3.2 \\times 10^{10}$ at $\\theta_{1} = -9.99$ reaching $9.93 \\times 10^{5}$ at $\\theta_{1} = 1.20$ and a gradual increase in error again.\n",
    "\n",
    "If we were to move one more dimension higher, we then could estimate the cost with respect to both, $\\theta_{0}$ and $\\theta_{1}$. Let's consider for a range of $\\theta_{0}$ values as well."
   ]
  },
  {
   "cell_type": "code",
   "execution_count": null,
   "metadata": {
    "collapsed": false
   },
   "outputs": [],
   "source": [
    "theta0    = np.arange(-10, 10, 0.1)\n",
    "mintheta0 = sys.maxsize\n",
    "mintheta1 = sys.maxsize\n",
    "minerror  = sys.maxsize\n",
    "\n",
    "errors    = [ ]\n",
    "\n",
    "for u in theta0:\n",
    "    l = [ ]\n",
    "    for v in theta1:\n",
    "        prediction = regressor.predict(X, [[u], [v]])\n",
    "        error      = mean_squared_error(prediction, y, nsamples)\n",
    "\n",
    "        if error < minerror:\n",
    "            mintheta0 = u\n",
    "            mintheta1 = v\n",
    "            minerror  = error\n",
    "            \n",
    "        l.append(error)\n",
    "            \n",
    "    errors.append(l)\n",
    "\n",
    "display(Math(\"$C_{min}(%.2f, %.2f) = %.2e$\" % (mintheta0, mintheta1, minerror)))"
   ]
  },
  {
   "cell_type": "markdown",
   "metadata": {},
   "source": [
    "Hmm. Well, the error seems to have reached its minimum at $9.92 \\times 10^{5}$ after being influenced by $\\theta_{0}$. Raising yet another dimension, we could visualize a 3-dimensional plot with contours reflected at each axis."
   ]
  },
  {
   "cell_type": "code",
   "execution_count": null,
   "metadata": {
    "collapsed": false
   },
   "outputs": [],
   "source": [
    "def plot_surface(x, y, z, labels = { 'x': '', 'y': '', 'z': '' }):\n",
    "    axes = plt.gca(projection = '3d')\n",
    "    axes.plot_surface(x, y, z, alpha = 0.1)\n",
    "\n",
    "    axes.set_xlabel(labels['x'])\n",
    "    axes.set_ylabel(labels['y'])\n",
    "    axes.set_zlabel(labels['z'])\n",
    "    \n",
    "    plt.tight_layout()\n",
    "\n",
    "X, Y   = np.meshgrid(theta0, theta1)\n",
    "Z      = np.atleast_2d(errors)\n",
    "\n",
    "labels = { 'x': '$\\\\theta_{0}$', 'y': '$\\\\theta_{1}$', 'z': '$C(\\\\theta_{0}, \\\\theta_{1})$' }\n",
    "plot_surface(X, Y, Z, labels)\n",
    "\n",
    "axes   = plt.gca(projection = '3d')\n",
    "# plotting Cmin\n",
    "axes.scatter(mintheta0, mintheta1, minerror)\n",
    "\n",
    "plt.show()"
   ]
  },
  {
   "cell_type": "code",
   "execution_count": null,
   "metadata": {
    "collapsed": false
   },
   "outputs": [],
   "source": [
    "axes = plt.gca(projection = '3d')\n",
    "\n",
    "axes.contour(X, Y, Z, zdir = 'x', offset = np.amin(X), cmap = cm.coolwarm)\n",
    "axes.contour(X, Y, Z, zdir = 'y', offset = np.amax(Y), cmap = cm.coolwarm)\n",
    "axes.contour(X, Y, Z, zdir = 'z', offset = np.amin(Z), cmap = cm.coolwarm)\n",
    "\n",
    "axes.set_xlabel('$\\\\theta_{0}$')\n",
    "axes.set_ylabel('$\\\\theta_{1}$')\n",
    "axes.set_zlabel('$C(\\\\theta_{0}, \\\\theta_{1})$')\n",
    "\n",
    "plt.title('Contours')\n",
    "\n",
    "plt.tight_layout()\n",
    "plt.show()"
   ]
  },
  {
   "cell_type": "markdown",
   "metadata": {},
   "source": [
    "#### Q. \"Great! We can now plug in these parameters and have our best fit line.\"\n",
    "\n",
    "Not really. In our first example, we considered $\\theta_{0} = 0$ whereas in our second example we limited our range for $\\theta_{0} = [-10, 10)$. Both of these examples have resulted in a different minimized error, i.e. we limited our sack of $\\theta$ values and then went on a hunt for our parameters that minimizes our cost function. Many sacks of $\\theta$s results many minimized errors but then, what would be our **optimal solution**? Our approach of trying many permutations of these ranges is not a great one. So let us refer to our graph once again."
   ]
  },
  {
   "cell_type": "code",
   "execution_count": null,
   "metadata": {
    "collapsed": false
   },
   "outputs": [],
   "source": [
    "plot_surface(X, Y, Z, labels)\n",
    "\n",
    "# plotting Cmin\n",
    "axes = plt.gca(projection = '3d')\n",
    "axes.scatter(mintheta0, mintheta1, minerror)\n",
    "\n",
    "plt.show()"
   ]
  },
  {
   "cell_type": "markdown",
   "metadata": {},
   "source": [
    "Our minimized error (blue dot) is no way near to the steepest point downhill that surface. What could then be another solution to reach to our steepest point?\n",
    "\n",
    "**ST**\n",
    "\n",
    "One way to realize this problem is to imagine a scenario wherein you are placed at a random point on the graph. Consider taking small iterative steps such that you're moving all the way dowhill upto a point wherein whichever step you may take in any direction does not lead you further downhill.\n",
    "\n",
    "In mathematics, we call this as the **Gradient Descent Algorithm** which in simpler terms means *\"move downhill by taking very small steps until you cannot move further downhill.\"* We call this least downhill point (with respect to the observer) as a **point of convergence**.\n",
    "\n",
    "### Gradient Descent Algorithm\n",
    "\n",
    "We can now formulate our Gradient Descent Algorithm as follows:\n",
    "\n",
    "Let $\\alpha$ be the learning rate (how small our step must be), then\n",
    "\n",
    "$repeat$\n",
    "$$\\theta_{j} := \\theta_{j} - \\alpha\\frac{\\partial C(\\theta)}{\\partial \\theta_{j}}$$\n",
    "$until$ $convergence$\n",
    "\n",
    "One must note that this is a parallel operation, i.e. each of these assignments are updated simultaneously. (*we look towards all possible directions and only then take a step*)\n",
    "\n",
    "**ST**\n",
    "\n",
    "The $:=$ operator is an assignment operator (updating a new value for the said variable) whereas the $\\frac{\\partial C(\\theta)}{\\partial \\theta_{j}}$ factor denotes the rate of change of our cost function influenced by all variables in the parameter set $\\theta$ with respect to an individual parameter $\\theta_{j}$.\n",
    "\n",
    "Consider this factor to be somewhat a GPS compass (covering a limited surface area). Our GPS is completely aware of the shape of our hill and guides us which direction should we move towards. If the factor were to be a positive large value, then our step would be equally large moving towards a lesser (big jump) $\\theta_{j}$ value. Similarly, if our factor to be a negative small value, our step would be moving towards a greater (small jump) $\\theta_{j}$ value.\n",
    "\n",
    "One needs to observe for the fact that if $\\alpha$ (our learning parameter) were to be very small, the algorithm would take a great amount of time to reach a point of convergence. Whereas in case where the $\\alpha$ were to be comparatively a larger value, we may overshoot the point of convergence and may even tend to diverge.\n",
    "\n",
    "Let's consider $C(\\theta)$ and compute its partial derivative with respect to $\\theta_{j}$, we then get.\n",
    "\n",
    "$$\\frac{\\partial C(\\theta)}{\\partial \\theta_{j}} = \\frac{1}{m} \\sum_{i = 1}^{m} (predict_{\\theta}(x^{(i)}) - y^{(i)}) \\cdot x_{j}^{(i)}$$\n",
    "\n",
    "##### Q. \"Hmm. This seems to be a better approach. Can we now plug in the parameter values we recieve from GDA?\"\n",
    "\n",
    "Well, yes. Our graph has a single point of convergence which denotes the **global minima** simply because of the quadratic nature of our function $C(\\theta)$. On our two-dimensional graph, we observed a parabolic plot (a convex function) and raising a parabola to higher dimensions thereby also results a convex function. No matter what, we'll always have a single point of convergence. So yes. We must thank our quadratic cost function for helping us get away with local minimas.\n",
    "\n",
    "We can now implement our Gradient Descent Algorithm as follows:"
   ]
  },
  {
   "cell_type": "code",
   "execution_count": null,
   "metadata": {
    "collapsed": true
   },
   "outputs": [],
   "source": [
    "# def gradient_descent(features, labels, parameters, nsamples, predict, learning_rate = 0.001):\n",
    "#     predictions = predict(features, parameters)\n",
    "#     error       = predictions - labels\n",
    "    \n",
    "#     features    = np.insert(features, 0, 1, axis = 1)\n",
    "    \n",
    "#     dcost       = (1.0 / nsamples) * np.dot(np.transpose(error), features)\n",
    "#     parameters  = parameters - learning_rate * np.transpose(dcost)\n",
    "    \n",
    "#     return parameters"
   ]
  },
  {
   "cell_type": "code",
   "execution_count": null,
   "metadata": {
    "collapsed": false
   },
   "outputs": [],
   "source": [
    "# iterations = 10\n",
    "# parameters = np.random.randn(2, 1)\n",
    "\n",
    "# for i in range(iterations):\n",
    "#     parameters = gradient_descent(x, y, parameters, nsamples, regressor.predict)\n",
    "#     prediction = regressor.predict(x, parameters)\n",
    "#     error      = mean_squared_error(prediction, y, nsamples)\n",
    "#     print(error)\n",
    "    \n",
    "#     plt.plot(i, error, marker = '.', color = 'blue')\n",
    "    \n",
    "# plt.grid()\n",
    "# plt.show()\n",
    "\n",
    "# plt.scatter(x, y)\n",
    "# plt.plot(x, regressor.predict(x, parameters))"
   ]
  },
  {
   "cell_type": "markdown",
   "metadata": {},
   "source": [
    "Let's discuss another kind of Supervised Learning problems.\n",
    "\n",
    "#### 3.A.b Classification\n",
    "\n",
    "Let's consider yet another data set to work on in order to understand what Classification is all about. We'll consider a famous data set provided by `scikit-learn` - [Ronald Fisher's **iris** data set](https://en.wikipedia.org/wiki/Iris_flower_data_set) provided under `load_iris()`. The data set maps 4 different attributes namely (sepal length & width, petal length & width) to a given iris species from a set of 3 (setosa, versicolor and virginica)."
   ]
  },
  {
   "cell_type": "code",
   "execution_count": null,
   "metadata": {
    "collapsed": false
   },
   "outputs": [],
   "source": [
    "from sklearn.datasets import load_iris\n",
    "\n",
    "iris    = load_iris()\n",
    "x       = iris.data[:,0] # sepal length (cm)\n",
    "y       = iris.data[:,1] # petal length (cm)\n",
    "\n",
    "plt.scatter(x, y, marker = 'x', c = iris.target)\n",
    "plt.xlabel('sepal length (cm)')\n",
    "plt.ylabel('petal length (cm)')\n",
    "    \n",
    "plt.grid()\n",
    "plt.show()"
   ]
  },
  {
   "cell_type": "markdown",
   "metadata": {},
   "source": [
    "In the case of the above graph, we see that ***setosa*** species (blue) has a small sepal length with a comparatively larger petal length, whereas ***virginica*** species (red) has a larger sepal length but a smaller petal length in comparision. Such a kind of problem could be termed as a **Classification** problem, i.e. choosing a categorical output based on some input variables (categorical or numeric). If we were to draw boundaries within the scatter plot, we could approximately classify a given iris species from a list of 3 based on the sepal length and petal length provided.\n",
    "\n",
    "Machine Learning is all about building those boundaries."
   ]
  },
  {
   "cell_type": "markdown",
   "metadata": {},
   "source": [
    "#### 3.A.b.i Logistic Regression\n",
    "\n",
    "#### Logistical Function\n",
    "A logistical function can be denoted as:\n",
    "$$f(x) = \\frac{H}{1 + e^{-k(x - x_{0})}}$$\n",
    "where $H$ is the maximum value, $k$ is its steepness and $x_{0}$ is the value of the function's mid-point."
   ]
  },
  {
   "cell_type": "code",
   "execution_count": null,
   "metadata": {
    "collapsed": true
   },
   "outputs": [],
   "source": [
    "def logistic(x, max = 1, steepness = 1, mid = 0):\n",
    "    return max / (1 + np.exp(- steepness * (x - mid)))"
   ]
  },
  {
   "cell_type": "code",
   "execution_count": null,
   "metadata": {
    "collapsed": false
   },
   "outputs": [],
   "source": [
    "# testing our logistic function using a range(-10, 10, 0.01)\n",
    "x = np.arange(-10, 10, 0.1)\n",
    "s = np.arange(0, 1, 0.2)"
   ]
  },
  {
   "cell_type": "code",
   "execution_count": null,
   "metadata": {
    "collapsed": false
   },
   "outputs": [],
   "source": [
    "# plotting a sigmoid function and its first order derivative\n",
    "_, ax   = plt.subplots()\n",
    "legends = [ ] \n",
    "\n",
    "for i in s:\n",
    "    ax.plot(x, logistic(x, steepness = i), lw = 2)\n",
    "    legends.append('$k = %.2f$' % i)\n",
    "\n",
    "ax.grid(True, which = 'both')\n",
    "\n",
    "ax.axhline(y = 0, color = 'k')\n",
    "ax.axvline(x = 0, color = 'k')\n",
    "\n",
    "plt.legend(legends)\n",
    "\n",
    "plt.xlabel('$x$')\n",
    "plt.ylabel(\"$\\f(x)\")\n",
    "\n",
    "plt.show()"
   ]
  },
  {
   "cell_type": "markdown",
   "metadata": {},
   "source": [
    "## 4. Artificial Neural Networks\n",
    "\n",
    "An Artificial Neural Network (hereby, ANN) is a learning model that is based on the way a Biological Neural Network works.\n",
    "\n",
    "Such models prove effective in cases wherein our data set is not *linearly seperable* i.e., one cannot seperate input to output mappings by merely drawing a line.\n",
    "\n",
    "#### Biological Neuron\n",
    "Our biological neural network system consists of billions of interconnected small units called as neurons. Let's look at a simplistic biological neuron and visualize our artifical model from it later.\n",
    "\n",
    "![](./img/biological-neuron.png)\n",
    "\n",
    "So, how do ANNs work? We now describe the smallest computational unit of an ANN - *neuron*.\n",
    "\n",
    "#### McCulloch-Pitts' Neuron\n",
    "\n",
    "![](./img/neuron.png)\n",
    "\n",
    "Image Source: [[6]](#References)\n",
    "\n",
    "Each neuron is connected to other neurons by a connection we call as the **synapse**. Each synapse has a weight $w$ associated to it. Consider this as the strength of the neuron that can be updated to increase the performance of the architecture. At each neuron, a $net$ is calculated by a summation of the products of each input to the neuron through a synapse and the weight associated to it on that synapse. The output of a neuron is given by $\\phi(net)$ where $\\phi$ denotes the activation function of that neuron. An additional neuron known as the **bias** having an input $+1$ is attached to each neuron of an ANN.\n",
    "\n",
    "Let $w_{ij}$ be the weight of a synapse/connection from the $i^{th}$ neuron to the $j^{th}$ and $b_{j}$ is the bias weight to the $j^{th}$ neuron. Let the input from the $i^{th}$ neuron be $x_i$. Then, $net_j$ can be defined as\n",
    "$$net_j = \\sum_{i = 1}^{m} w_{ij} x_i + b_{j}$$\n",
    "where $m$ is the number of neurons in the layer where neuron $i$ exists.\n",
    "\n",
    "The output from the $j_{th}$ neuron will then be\n",
    "$$x_{j} = \\phi(net_{i})$$\n",
    "\n",
    "where $\\phi(net_{j})$ is the activation function present at neuron $i$. Also, $x_{j}$ either acts as the output or an input from neuron $j$ to say, neuron $k$."
   ]
  },
  {
   "cell_type": "markdown",
   "metadata": {},
   "source": [
    "**ST**\n",
    "\n",
    "Assume a neuron having a single input, say $x_{1}$ coming from neuron $1$ to neuron $2$ connected by a weight $w_{12}$. Also, declaring a bias input having an input 1 and a weight $b_{j}$ associated to its synapse. We can then formulate the output $y$ at neuron $2$ as,\n",
    "$$y = \\phi(w_{12} x_1 + b_{2})$$\n",
    "\n",
    "We notice that the above equation represents a Univariate Logistic Regressor, where $w_{12}$ denotes the slope of a line and $b_{2}$ denotes the y-intercept. Hence, each ***neuron in itself is a logistic unit.***"
   ]
  },
  {
   "cell_type": "markdown",
   "metadata": {},
   "source": [
    "#### 4.A Activation Functions\n",
    "\n",
    "We provide an exhaustive list of various activation functions and their implementations.\n",
    "- [Identity](#Identity-Function)\n",
    "- [Heaviside](#Heaviside-Function)\n",
    "- [Sigmoid](#Sigmoid-Function)\n",
    "- [Bipolar Sigmoid](#Bipolar-Sigmoid-Function)\n",
    "- [Complementary log-log](#Complementary-log-log-Function)\n",
    "- [Hyperbolic Tan](#Hyperbolic-Tan-Function)\n",
    "- [Yann LeCun's Hyperbolic Tan](#Yann-LeCun's-Hyperbolic-Tan-Function)\n",
    "- [ReLU (Rectifier Linear Unit) / Ramp](#ReLU-Function)\n",
    "- [Absolute](#Absolute-Function)"
   ]
  },
  {
   "cell_type": "markdown",
   "metadata": {},
   "source": [
    "#### Identity Function\n",
    "$$\\phi(x) = x$$"
   ]
  },
  {
   "cell_type": "code",
   "execution_count": null,
   "metadata": {
    "collapsed": true
   },
   "outputs": [],
   "source": [
    "# an identity function\n",
    "def identity(x, derivative = False):\n",
    "    if derivative:\n",
    "        return np.sign(x)\n",
    "    return x"
   ]
  },
  {
   "cell_type": "code",
   "execution_count": null,
   "metadata": {
    "collapsed": true
   },
   "outputs": [],
   "source": [
    "# testing our activation functions using a range(-10, 10, 0.01)\n",
    "x = np.arange(-10, 10, 0.01)"
   ]
  },
  {
   "cell_type": "code",
   "execution_count": null,
   "metadata": {
    "collapsed": false
   },
   "outputs": [],
   "source": [
    "# plotting an identity function and its first order derivative\n",
    "_, ax = plt.subplots()\n",
    "ax.plot(x, identity(x)                   , lw = 2)\n",
    "ax.plot(x, identity(x, derivative = True), lw = 2)\n",
    "\n",
    "ax.grid(True, which = 'both')\n",
    "\n",
    "ax.axhline(y = 0, color = 'k')\n",
    "ax.axvline(x = 0, color = 'k')\n",
    "\n",
    "plt.title('Identity Function')\n",
    "\n",
    "plt.legend([\"$\\phi(x)$\", \"$\\phi'(x)$\"])\n",
    "\n",
    "plt.xlabel('$x$')\n",
    "plt.ylabel(\"$\\phi(x)/\\phi'(x)$\")\n",
    "\n",
    "plt.show()"
   ]
  },
  {
   "cell_type": "markdown",
   "metadata": {},
   "source": [
    "#### Heaviside Function"
   ]
  },
  {
   "cell_type": "code",
   "execution_count": null,
   "metadata": {
    "collapsed": true
   },
   "outputs": [],
   "source": [
    "# a heaviside function\n",
    "def heaviside(x):\n",
    "    return 0.5 * (np.sign(x) + 1)"
   ]
  },
  {
   "cell_type": "code",
   "execution_count": null,
   "metadata": {
    "collapsed": false
   },
   "outputs": [],
   "source": [
    "# plotting a heaviside function\n",
    "_, ax = plt.subplots()\n",
    "ax.plot(x, heaviside(x), lw = 2)\n",
    "\n",
    "ax.grid(True, which = 'both')\n",
    "\n",
    "ax.axhline(y = 0, color = 'k')\n",
    "ax.axvline(x = 0, color = 'k')\n",
    "\n",
    "plt.title('Heaviside Function')\n",
    "\n",
    "plt.legend([\"$\\phi(x)$\"])\n",
    "\n",
    "plt.xlabel('$x$')\n",
    "plt.ylabel(\"$\\phi(x)$\")\n",
    "\n",
    "# adding margins\n",
    "margin         = 1\n",
    "x1, x2, y1, y2 = plt.axis()\n",
    "plt.axis((x1, x2, y1 - margin, y2 + margin))\n",
    "plt.show()"
   ]
  },
  {
   "cell_type": "markdown",
   "metadata": {},
   "source": [
    "#### Sigmoid Function\n",
    "$$\\phi(x) = \\frac{1}{1 + e^{-x}}$$"
   ]
  },
  {
   "cell_type": "code",
   "execution_count": null,
   "metadata": {
    "collapsed": false
   },
   "outputs": [],
   "source": [
    "# finding the first order derivative of a sigmoid function\n",
    "s = sp.Symbol('x')            # denoting a sympy symbol\n",
    "f = 1 / (1 + sp.exp(-s))      # a sigmoid function\n",
    "sp.diff(f)                    # differentiating the equation"
   ]
  },
  {
   "cell_type": "code",
   "execution_count": null,
   "metadata": {
    "collapsed": true
   },
   "outputs": [],
   "source": [
    "# a sigmoid function\n",
    "def sigmoid(x, derivative = False):\n",
    "    e = np.exp(-x)\n",
    "    \n",
    "    if derivative:\n",
    "        return e / np.power(1 + e, 2)\n",
    "    return 1 / (1 + e)"
   ]
  },
  {
   "cell_type": "code",
   "execution_count": null,
   "metadata": {
    "collapsed": false
   },
   "outputs": [],
   "source": [
    "# plotting a sigmoid function and its first order derivative\n",
    "_, ax = plt.subplots()\n",
    "ax.plot(x, sigmoid(x)                   , lw = 2)\n",
    "ax.plot(x, sigmoid(x, derivative = True), lw = 2)\n",
    "\n",
    "ax.grid(True, which = 'both')\n",
    "\n",
    "ax.axhline(y = 0, color = 'k')\n",
    "ax.axvline(x = 0, color = 'k')\n",
    "\n",
    "plt.title('Sigmoid Function')\n",
    "\n",
    "plt.legend([\"$\\phi(x)$\", \"$\\phi'(x)$\"])\n",
    "\n",
    "plt.xlabel('$x$')\n",
    "plt.ylabel(\"$\\phi(x)/\\phi'(x)$\")\n",
    "\n",
    "plt.show()"
   ]
  },
  {
   "cell_type": "markdown",
   "metadata": {},
   "source": [
    "#### Bipolar Sigmoid Function\n",
    "$$\\phi(x) = \\frac{1 - e^{-x}}{1 + e^{-x}}$$"
   ]
  },
  {
   "cell_type": "code",
   "execution_count": null,
   "metadata": {
    "collapsed": false
   },
   "outputs": [],
   "source": [
    "# finding the first order derivative of a bipolar sigmoid function\n",
    "f = (1 - sp.exp(-s)) /  (1 + sp.exp(-s))     # a bipolar sigmoid function\n",
    "d = sp.diff(f)                               # differentiating the equation\n",
    "sp.simplify(d)                               # simplifying the equation"
   ]
  },
  {
   "cell_type": "code",
   "execution_count": null,
   "metadata": {
    "collapsed": true
   },
   "outputs": [],
   "source": [
    "# a bipolar sigmoid function\n",
    "def bipolar_sigmoid(x, derivative = False):\n",
    "    e = np.exp(-x)\n",
    "    \n",
    "    if derivative:\n",
    "        e = np.exp(x)\n",
    "        return 2 * e / np.power(1 + e, 2)\n",
    "    return (1 - e) / (1 + e)"
   ]
  },
  {
   "cell_type": "code",
   "execution_count": null,
   "metadata": {
    "collapsed": false
   },
   "outputs": [],
   "source": [
    "# plotting a sigmoid function and its first order derivative\n",
    "_, ax = plt.subplots()\n",
    "ax.plot(x, bipolar_sigmoid(x)                   , lw = 2)\n",
    "ax.plot(x, bipolar_sigmoid(x, derivative = True), lw = 2)\n",
    "\n",
    "ax.grid(True, which = 'both')\n",
    "\n",
    "ax.axhline(y = 0, color = 'k')\n",
    "ax.axvline(x = 0, color = 'k')\n",
    "\n",
    "plt.title('Bipolar Sigmoid Function')\n",
    "\n",
    "plt.legend([\"$\\phi(x)$\", \"$\\phi'(x)$\"])\n",
    "\n",
    "plt.xlabel('$x$')\n",
    "plt.ylabel(\"$\\phi(x)/\\phi'(x)$\")\n",
    "\n",
    "plt.show()"
   ]
  },
  {
   "cell_type": "markdown",
   "metadata": {},
   "source": [
    "#### Complementary log-log Function\n",
    "$$\\phi(x) = 1 - e^{-e^{x}}$$"
   ]
  },
  {
   "cell_type": "code",
   "execution_count": null,
   "metadata": {
    "collapsed": false
   },
   "outputs": [],
   "source": [
    "# finding the first order derivative of a cloglog function\n",
    "f = 1 - sp.exp(-sp.exp(s))        # a cloglog function\n",
    "d = sp.diff(f)                    # differentiating the equation\n",
    "sp.simplify(d)"
   ]
  },
  {
   "cell_type": "code",
   "execution_count": null,
   "metadata": {
    "collapsed": true
   },
   "outputs": [],
   "source": [
    "# a complementary log-log function\n",
    "def cloglog(x, derivative = False):\n",
    "    e = np.exp(x)\n",
    "    \n",
    "    if derivative:\n",
    "        return np.exp(x - e)\n",
    "    return 1 - np.exp(-e)"
   ]
  },
  {
   "cell_type": "code",
   "execution_count": null,
   "metadata": {
    "collapsed": false
   },
   "outputs": [],
   "source": [
    "# plotting a sigmoid function and its first order derivative\n",
    "_, ax = plt.subplots()\n",
    "ax.plot(x, cloglog(x)                   , lw = 2)\n",
    "ax.plot(x, cloglog(x, derivative = True), lw = 2)\n",
    "\n",
    "ax.grid(True, which = 'both')\n",
    "\n",
    "ax.axhline(y = 0, color = 'k')\n",
    "ax.axvline(x = 0, color = 'k')\n",
    "\n",
    "plt.title('Complementary Log Log')\n",
    "\n",
    "plt.legend([\"$\\phi(x)$\", \"$\\phi'(x)$\"])\n",
    "\n",
    "plt.xlabel('$x$')\n",
    "plt.ylabel(\"$\\phi(x)/\\phi'(x)$\")\n",
    "\n",
    "# adding margins\n",
    "margin         = 0.5\n",
    "x1, x2, y1, y2 = plt.axis()\n",
    "plt.axis((x1, x2, y1 - margin, y2 + margin))\n",
    "plt.show()"
   ]
  },
  {
   "cell_type": "markdown",
   "metadata": {},
   "source": [
    "#### Hyperbolic Tan Function\n",
    "$$\\phi(x) = tanh(x)$$"
   ]
  },
  {
   "cell_type": "code",
   "execution_count": null,
   "metadata": {
    "collapsed": false
   },
   "outputs": [],
   "source": [
    "# finding the first order derivative of a tanh function\n",
    "f = sp.tanh(s)\n",
    "sp.diff(f)"
   ]
  },
  {
   "cell_type": "code",
   "execution_count": null,
   "metadata": {
    "collapsed": true
   },
   "outputs": [],
   "source": [
    "# a tanh function\n",
    "def tanh(x, derivative = False):\n",
    "    if derivative:\n",
    "        return 1 - np.power(np.tanh(x), 2)\n",
    "    return np.tanh(x)"
   ]
  },
  {
   "cell_type": "code",
   "execution_count": null,
   "metadata": {
    "collapsed": false
   },
   "outputs": [],
   "source": [
    "# plotting a tanh function and its first order derivative\n",
    "_, ax = plt.subplots()\n",
    "ax.plot(x, tanh(x)                   , lw = 2)\n",
    "ax.plot(x, tanh(x, derivative = True), lw = 2)\n",
    "\n",
    "ax.grid(True, which = 'both')\n",
    "\n",
    "ax.axhline(y = 0, color = 'k')\n",
    "ax.axvline(x = 0, color = 'k')\n",
    "\n",
    "plt.title('Hyperbolic Tan Function')\n",
    "\n",
    "plt.legend([\"$\\phi(x)$\", \"$\\phi'(x)$\"])\n",
    "\n",
    "plt.xlabel('$x$')\n",
    "plt.ylabel(\"$\\phi(x)/\\phi'(x)$\")\n",
    "\n",
    "plt.show()"
   ]
  },
  {
   "cell_type": "markdown",
   "metadata": {},
   "source": [
    "#### Yann LeCun's Hyperbolic Tan Function\n",
    "This activation function is best to use when:\n",
    "* Our data set to be fed into the network is *normalized*.\n",
    "* Weights of our network are initialized using Yann LeCun's weight initialization method.\n",
    "\n",
    "For more details, see [[7]](#References)"
   ]
  },
  {
   "cell_type": "code",
   "execution_count": null,
   "metadata": {
    "collapsed": false
   },
   "outputs": [],
   "source": [
    "def tanh_lecun(x, derivative = False):\n",
    "    a = 1.7159\n",
    "    b = (2.0 / 3.0)\n",
    "    \n",
    "    if derivative:\n",
    "        return a * (b - np.tanh(b * x))\n",
    "    return a * np.tanh(x)"
   ]
  },
  {
   "cell_type": "code",
   "execution_count": null,
   "metadata": {
    "collapsed": false
   },
   "outputs": [],
   "source": [
    "# plotting yann lecun's tanh function and its first order derivative\n",
    "_, ax = plt.subplots()\n",
    "ax.plot(x, tanh_lecun(x)                   , lw = 2)\n",
    "ax.plot(x, tanh_lecun(x, derivative = True), lw = 2)\n",
    "\n",
    "ax.grid(True, which = 'both')\n",
    "\n",
    "ax.axhline(y = 0, color = 'k')\n",
    "ax.axvline(x = 0, color = 'k')\n",
    "\n",
    "plt.title(\"Yann LeCun's Hyperbolic Tan Function\")\n",
    "\n",
    "plt.legend([\"$\\phi(x)$\", \"$\\phi'(x)$\"])\n",
    "\n",
    "plt.xlabel('$x$')\n",
    "plt.ylabel(\"$\\phi(x)/\\phi'(x)$\")\n",
    "\n",
    "plt.show()"
   ]
  },
  {
   "cell_type": "markdown",
   "metadata": {},
   "source": [
    "#### ReLU Function"
   ]
  },
  {
   "cell_type": "code",
   "execution_count": null,
   "metadata": {
    "collapsed": false
   },
   "outputs": [],
   "source": [
    "# a relu (Rectifier Linear Unit) function\n",
    "def relu(x, derivative = False):\n",
    "    if derivative:\n",
    "        # the derivative of a ramp function is nothing but a heaviside function\n",
    "        return heaviside(x)\n",
    "    return np.maximum(0, x)"
   ]
  },
  {
   "cell_type": "code",
   "execution_count": null,
   "metadata": {
    "collapsed": false
   },
   "outputs": [],
   "source": [
    "# plotting a relu function and its first order derivative\n",
    "_, ax = plt.subplots()\n",
    "ax.plot(x, relu(x)                   , lw = 2)\n",
    "ax.plot(x, relu(x, derivative = True), lw = 2)\n",
    "\n",
    "ax.grid(True, which = 'both')\n",
    "\n",
    "ax.axhline(y = 0, color = 'k')\n",
    "ax.axvline(x = 0, color = 'k')\n",
    "\n",
    "plt.title(\"ReLU Function\")\n",
    "\n",
    "plt.legend([\"$\\phi(x)$\", \"$\\phi'(x)$\"])\n",
    "\n",
    "plt.xlabel('$x$')\n",
    "plt.ylabel(\"$\\phi(x)/\\phi'(x)$\")\n",
    "\n",
    "plt.show()"
   ]
  },
  {
   "cell_type": "markdown",
   "metadata": {},
   "source": [
    "#### Absolute Function"
   ]
  },
  {
   "cell_type": "code",
   "execution_count": null,
   "metadata": {
    "collapsed": true
   },
   "outputs": [],
   "source": [
    "# an absolute function\n",
    "def absolute(x):\n",
    "    return np.abs(x)"
   ]
  },
  {
   "cell_type": "code",
   "execution_count": null,
   "metadata": {
    "collapsed": false
   },
   "outputs": [],
   "source": [
    "# plotting a relu function and its first order derivative\n",
    "_, ax = plt.subplots()\n",
    "ax.plot(x, absolute(x), lw = 2)\n",
    "\n",
    "ax.grid(True, which = 'both')\n",
    "\n",
    "ax.axhline(y = 0, color = 'k')\n",
    "ax.axvline(x = 0, color = 'k')\n",
    "\n",
    "plt.title(\"Absolute Function\")\n",
    "\n",
    "plt.legend([\"$\\phi(x)$\"])\n",
    "\n",
    "plt.xlabel('$x$')\n",
    "plt.ylabel(\"$\\phi(x)$\")\n",
    "\n",
    "plt.show()"
   ]
  },
  {
   "cell_type": "markdown",
   "metadata": {},
   "source": [
    "#### 2.2 Weight Initialization Methods\n",
    "1. Gaussian (Normal) Distribution with a standard deviation $\\sigma = 0.01$\n",
    "\n",
    "2. Yann LeCun's Weight Initialization Method: Yann LeCun states that if the data is been normalized and `tanh_lecun` is been used, then the weights could be initialized from a distribution having a mean $\\mu = 0$ and a standard deviation $\\sigma = {\\frac{1}{\\sqrt{m}}}$ where $m$ is the number of inputs to a node.\n",
    "\n",
    "3. Xavier / Glorot Weight Initialization Method: If $m$ is the number of fan-in nodes and $n$ is the number of fan-out nodes, then the weights could be initialized choosing a random value from a Uniform Distribution in the range $$U \\sim [\\,{\\sqrt{\\frac{6}{m + n}}}, {\\sqrt{\\frac{6}{m - n}}}]\\,$$"
   ]
  },
  {
   "cell_type": "markdown",
   "metadata": {},
   "source": [
    "##### Probability Density Function (Uniform Distribution)\n",
    "$$P(x) = \\frac{1}{b - a}$$\n",
    "\n",
    "##### Probability Density Function (Normal Distribution)\n",
    "$$P(x) = \\frac{1}{\\sqrt{2\\pi\\sigma^2}}e^{-\\frac{(x - \\mu)^2}{2\\sigma^2}}$$\n",
    "\n",
    "In order to randomize weights around 0, we pick out random values from the said probability density function."
   ]
  },
  {
   "cell_type": "code",
   "execution_count": null,
   "metadata": {
    "collapsed": false
   },
   "outputs": [],
   "source": [
    "# a probability density function for a Normal Distribution\n",
    "def pdf_normal(x, mu = 0.0, sigma = 1.0):\n",
    "    c = 2 * np.power(sigma, 2)\n",
    "    return (1.0 / np.sqrt(np.pi * c)) * np.exp(-(np.power(x - mu, 2) / c))"
   ]
  },
  {
   "cell_type": "code",
   "execution_count": null,
   "metadata": {
    "collapsed": true
   },
   "outputs": [],
   "source": [
    "# plotting a Uniform Distribution\n",
    "def plot_uniform(low = 0.0, high = 1.0, bins = 100, size = 1000, title = None):\n",
    "    range      = np.random.uniform(low, high, size)\n",
    "    _, bins, _ = plt.hist(range, bins, normed = True)\n",
    "    plt.legend(['$U \\sim [\\,%.2f, %.2f]\\,$' % (low, high)])\n",
    "    \n",
    "    if title is not None:\n",
    "        plt.title(title)\n",
    "        \n",
    "    plt.show()"
   ]
  },
  {
   "cell_type": "code",
   "execution_count": null,
   "metadata": {
    "collapsed": false
   },
   "outputs": [],
   "source": [
    "# a test case to plot a Uniform Distribution\n",
    "plot_uniform()"
   ]
  },
  {
   "cell_type": "code",
   "execution_count": null,
   "metadata": {
    "collapsed": true
   },
   "outputs": [],
   "source": [
    "# plotting a Normal Distribution and its PDF\n",
    "def plot_normal(mu = 0.0, sigma = 1.0, bins = 100, size = 1000, title = None):\n",
    "    range      = np.random.normal(mu, sigma, size)\n",
    "    _, bins, _ = plt.hist(range, bins, normed = True)\n",
    "    plt.plot(bins, pdf_normal(bins, mu, sigma), lw = 2, color = 'r')\n",
    "    \n",
    "    if title is not None:\n",
    "        plt.title(title)\n",
    "        \n",
    "    plt.legend(['$\\mu = %0.2f, \\sigma = %0.2f$' % (mu, sigma)])\n",
    "    \n",
    "    plt.show()"
   ]
  },
  {
   "cell_type": "code",
   "execution_count": null,
   "metadata": {
    "collapsed": false
   },
   "outputs": [],
   "source": [
    "# a test case to plot a Normal Distribution and its PDF\n",
    "plot_normal()"
   ]
  },
  {
   "cell_type": "code",
   "execution_count": null,
   "metadata": {
    "collapsed": true
   },
   "outputs": [],
   "source": [
    "# Our Artificial Neural Network class\n",
    "class ANN:\n",
    "    # available weight initialization methods\n",
    "    RANDN          = 1\n",
    "    LECUN_UNIFORM  = 2\n",
    "    LECUN_NORMAL   = 3\n",
    "    XAVIER_UNIFORM = 4\n",
    "    XAVIER_NORMAL  = 5\n",
    "    \n",
    "    # available activation functions \n",
    "    IDENTITY       = identity\n",
    "    CLOGLOG        = cloglog\n",
    "    RELU           = relu\n",
    "    SIGMOID        = sigmoid\n",
    "    TANH           = tanh\n",
    "    TANH_LECUN     = tanh_lecun\n",
    "    HEAVISIDE      = heaviside\n",
    "    ABSOLUTE       = absolute\n",
    "    \n",
    "    '''\n",
    "    @arguments\n",
    "        sizes    - a list containing the number of neurons in each layer inclusive of the input and output layer.\n",
    "        wimethod - the initialization method for initializating weights and biases.\n",
    "    '''    \n",
    "    def __init__(self, sizes, wimethod = RANDN, debug = False):\n",
    "        self.log      = Log(debug) # a logger for debugging\n",
    "        \n",
    "        self.nlayers  = len(sizes) # number of layers inclusive of i/p layer\n",
    "        self.ninputs  = sizes[ 0]  # number of inputs\n",
    "        self.noutputs = sizes[-1]  # number of outputs\n",
    "        self.sizes    = sizes      # the topological structure of the neural network\n",
    "        self.neurons  = sum(sizes) # number of neurons within the architecture\n",
    "        \n",
    "        self.biases, self.weights = self._init_weights(wimethod)\n",
    "        \n",
    "        # logging initial weights\n",
    "        self.log.debug(\"ANN._init_weights: Initial Weights: \")        \n",
    "        if self.log.debuggable:\n",
    "            for i, w in enumerate(self.weights):\n",
    "                self.log.debug('weight(%i)' % (i + 1))\n",
    "                self.log.display(npa_to_latex_bmatrix_string(w))\n",
    "                \n",
    "        # logging initial biases                \n",
    "        self.log.debug(\"ANN._init_weights: Initial Biases: \")       \n",
    "        if self.log.debuggable:\n",
    "            for i, b in enumerate(self.biases):\n",
    "                self.log.debug('bias(%i)' % (i + 1))\n",
    "                self.log.display(npa_to_latex_bmatrix_string(b))\n",
    "                \n",
    "    def _init_weights(self, wimethod = RANDN):\n",
    "        sizes   = self.sizes\n",
    "        \n",
    "        # initialize weights to 0 and then \"break the symmetry\" [3]\n",
    "        weights = [np.zeros(shape = (x, y)) for x, y in zip(sizes[:-1], sizes[1:])]\n",
    "        biases  = [np.zeros(shape = (1, y)) for y    in sizes[1:]]\n",
    "        \n",
    "        if wimethod is ANN.RANDN:\n",
    "            self.log.debug(\"ANN._init_weights: Initialization Weights using a Gaussian Distribution (mu = 0, sigma = 0.01).\")\n",
    "            # a random gaussian distribution with standard deviation = 0.01\n",
    "            mu      = 0.0\n",
    "            sigma   = 0.01\n",
    "            weights = [np.random.normal(size = (x, y), loc = mu, scale = sigma) for x, y in zip(sizes[:-1], sizes[1:])]\n",
    "            biases  = [np.random.normal(size = (1, y))                          for y    in sizes[1:]]\n",
    "            \n",
    "            self.log.debug('ANN._init_weights: Plotting a Probability Density Function for weights.')\n",
    "            if self.log.debuggable:\n",
    "                plot_normal(mu = mu, sigma = sigma, title = 'Initial Weights Distribution for all Layers.');\n",
    "                \n",
    "        if wimethod is ANN.LECUN_UNIFORM:\n",
    "            self.log.debug(\"ANN._init_weights: Initialization Weights using Yann LeCun's method (Uniform Distribution).\")\n",
    "            # to be implemented\n",
    "            \n",
    "        if wimethod is ANN.LECUN_NORMAL:\n",
    "            self.log.debug(\"ANN._init_weights: Initialization Weights using Yann LeCun's method (Normal Distribution).\")\n",
    "            mu     = 0.0\n",
    "            \n",
    "            for i in range(self.nlayers - 1):\n",
    "                m     = sizes[i]               # fan-in\n",
    "                n     = sizes[i + 1]           # fan-out\n",
    "                \n",
    "                sigma = np.sqrt(1.0 / m)\n",
    "                \n",
    "                weights[i] = np.random.normal(size = (m, n)) * sigma\n",
    "                biases [i] = np.random.normal(size = (1, n))\n",
    "                \n",
    "                u     = i + 1 # layer x\n",
    "                v     = i + 2 # layer y\n",
    "                \n",
    "                self.log.debug('ANN._init_weights: Plotting a Probability Density Function for weights (%i, %i).' % (u, v))\n",
    "                if self.log.debuggable:\n",
    "                    plot_normal(mu = mu, sigma = sigma, title = 'Initial Weight Distribution for (%i, %i)' % (u, v))\n",
    "                                                                              \n",
    "        if wimethod is ANN.XAVIER_UNIFORM:\n",
    "            self.log.debug(\"ANN._init_weights: Initialization Weights using Xavier's method (Uniform Distribution).\")\n",
    "            \n",
    "            for i in range(self.nlayers - 1):\n",
    "                m = sizes[i]               # fan-in\n",
    "                n = sizes[i + 1]           # fan-out\n",
    "                \n",
    "                r = np.sqrt(6.0 / (m + n)) # range\n",
    "                \n",
    "                weights[i] = np.random.uniform(low = -r, high = r, size = (m, n))\n",
    "                biases [i] = np.random.uniform(low = -r, high = r, size = (1, n))\n",
    "                \n",
    "                u     = i + 1 # layer x\n",
    "                v     = i + 2 # layer y\n",
    "                \n",
    "                self.log.debug('ANN._init_weights: Plotting a Uniform Distribution for weights (%i, %i).' % (u, v))\n",
    "                if self.log.debuggable:\n",
    "                    plot_uniform(low = -r, high = r, title = 'Initial Weight Distribution for (%i, %i)' % (u, v))\n",
    "                \n",
    "        if wimethod is ANN.XAVIER_NORMAL:\n",
    "            self.log.debug(\"ANN._init_weights: Initialization Weights using Xavier's method (Normal Distribution).\")\n",
    "            mu = 0.0\n",
    "            \n",
    "            for i in range(self.nlayers - 1):\n",
    "                m     = sizes[i]               # fan-in\n",
    "                n     = sizes[i + 1]           # fan-out\n",
    "                \n",
    "                sigma = np.sqrt(3.0 / (m + n)) # standard deviation\n",
    "                \n",
    "                weights[i] = np.random.normal(size = (m, n)) * sigma\n",
    "                biases [i] = np.random.normal(size = (1, n))\n",
    "                \n",
    "                u     = i + 1 # layer x\n",
    "                v     = i + 2 # layer y\n",
    "                \n",
    "                self.log.debug('ANN._init_weights: Plotting a Probability Density Function for weights (%i, %i).' % (u, v))\n",
    "                if self.log.debuggable:\n",
    "                    plot_normal(mu = mu, sigma = sigma, title = 'Initial Weight Distribution for (%i, %i)' % (u, v))\n",
    "        \n",
    "        return (biases, weights)\n",
    "    \n",
    "    def view(self):\n",
    "        graph = nx.DiGraph()\n",
    "        \n",
    "        # to be implemented\n",
    "        \n",
    "        nx.draw(graph, node_color = 'y')"
   ]
  },
  {
   "cell_type": "code",
   "execution_count": null,
   "metadata": {
    "collapsed": false
   },
   "outputs": [],
   "source": [
    "class FNN(ANN):\n",
    "    def __init__(self, *args, **kwargs):\n",
    "        ANN.__init__(self, *args, **kwargs)\n",
    "        \n",
    "    def _feedforward(self, x, activation = ANN.SIGMOID):\n",
    "        self.log.debug('FNN._feedforward: Feeding an input: ' + str(x))\n",
    "        \n",
    "        table  = PrettyTable(['LAYER.', 'WEIGHT', 'BIAS', 'NET', 'f(NET)'])\n",
    "\n",
    "        x      = np.atleast_2d(x)\n",
    "        print(x)\n",
    "        \n",
    "        input  = [ ]                         # stores the inputs  to   each layer\n",
    "        output = [x]                         # stores the outputs from each layer\n",
    "\n",
    "        for i in range(self.nlayers - 1):\n",
    "            w = self.weights[i]\n",
    "            b = self.biases [i]\n",
    "            \n",
    "            z = np.add(np.dot(x, w), b)      # z   = x.w + b, the net of a given neuron\n",
    "            x = activation(z)                              # a   = f(z)   , triggering the activation function\n",
    "\n",
    "            input .append(z)\n",
    "            output.append(x)\n",
    "\n",
    "            table.add_row([i + 1,\n",
    "                           npa_to_latex_bmatrix_string(w),\n",
    "                           npa_to_latex_bmatrix_string(b),\n",
    "                           npa_to_latex_bmatrix_string(z),\n",
    "                           npa_to_latex_bmatrix_string(x)])\n",
    "\n",
    "        self.log.debug('FNN._feedforward: For each iteration.')\n",
    "        self.log.display(table.get_html_string())\n",
    "\n",
    "        self.log.debug('FNN._feedforward: Done. Model generated: ' + str(x))\n",
    "\n",
    "        return { 'input': input, 'output': output }\n",
    "        \n",
    "    def fit(self, features, labels, activation = ANN.SIGMOID, learning_rate = 0.01, epochs = 10000):\n",
    "        self.activation   = activation\n",
    "        \n",
    "        choice            = random.randrange(self.ninputs) # choosing a random feature to feed into the network\n",
    "        \n",
    "        # feeding the feature once through the network\n",
    "        # model states the inputs and outputs of each layer\n",
    "        model             = self._feedforward(features[choice], activation)\n",
    "        y                 = model['output'][-1] # the output recieved from the output layer\n",
    "                \n",
    "        # using mean squared error\n",
    "        error             = mse(labels[choice], y)\n",
    "        self.log.debug('FNN.fit: Error recieved: ' + str(error))\n",
    "        \n",
    "        # initiating the backpropagation algorithm\n",
    "        \n",
    "        # derivative of the cost function\n",
    "        # = - (expected_output - predicted_output) x f'(input to output layer)\n",
    "        delta             = (y - labels[choice]) * self.activation(model['input'][-1], derivative = True)        \n",
    "        self.log.debug('FNN.fit: BackPropagation Error from output layer: ' + str(delta))\n",
    "        \n",
    "        delta_weights     = [np.zeros(w.shape) for w in self.weights] # delta weights list\n",
    "        delta_biases      = [np.zeros(b.shape) for b in self.biases]  # delta biases  list\n",
    "        \n",
    "        table             = PrettyTable(['LAYER.', 'DELTA', 'ΔW', 'ΔB'])\n",
    "        round             = 4\n",
    "        \n",
    "        delta_weights[-1] = np.dot(np.transpose(model['output'][-2]), delta)\n",
    "        delta_biases [-1] = delta\n",
    "        \n",
    "        table.add_row([self.nlayers,\n",
    "                       npa_to_latex_bmatrix_string(np.round(delta            , round)),\n",
    "                       npa_to_latex_bmatrix_string(np.round(delta_weights[-1], round)),\n",
    "                       npa_to_latex_bmatrix_string(np.round(delta_biases [-1], round))])\n",
    "        \n",
    "        for i in range(2, self.nlayers):\n",
    "            z                 = model['input' ][-i]\n",
    "            weight            = self.weights[-i + 1]\n",
    "            \n",
    "            delta             = np.dot(delta, np.transpose(weight)) * self.activation(z, derivative = True)\n",
    "            \n",
    "            a                 = model['output'][-i - 1]\n",
    "            \n",
    "            delta_weights[-i] = np.dot(np.transpose(a), delta)\n",
    "            delta_biases [-i] = delta\n",
    "            \n",
    "            table.add_row([self.nlayers - i + 1,\n",
    "                           npa_to_latex_bmatrix_string(delta),\n",
    "                           npa_to_latex_bmatrix_string(delta_weights[-i]),\n",
    "                           npa_to_latex_bmatrix_string(delta_biases [-i])])\n",
    "        \n",
    "        self.log.debug('FNN.fit: For each BackPropagation iteration.')\n",
    "        self.log.display(table.get_html_string())\n",
    "        \n",
    "    def predict(self, features):\n",
    "        self.log.debug('FNN.predict: Attempting to predict the outputs.')\n",
    "        \n",
    "        outputs = [ ] # a list of outputs recieved for each feature\n",
    "        \n",
    "        for i in features:\n",
    "            # feeding the feature through the network\n",
    "            model  = self._feedforward(i, self.activation)\n",
    "            output = model['output'][-1]\n",
    "            \n",
    "            self.log.debug('FNN.predict: Prediction for ' + str(i) + ' recieved is ' + str(output))\n",
    "            \n",
    "            outputs.append(output)\n",
    "            \n",
    "        return outputs"
   ]
  },
  {
   "cell_type": "code",
   "execution_count": null,
   "metadata": {
    "collapsed": false
   },
   "outputs": [],
   "source": [
    "features     = np.asarray([[0, 0], [0, 1], [1, 0], [1, 1]])\n",
    "labels       = [[0], [1], [1], [0]]\n",
    "\n",
    "nfeatures    =  len(features[0])  # number of features\n",
    "nlabels      =  len(labels[0])    # number of labels\n",
    "sizes_hidden =  [3]               # 1 hidden layer with 3 neurons\n",
    "\n",
    "sizes        = [nfeatures] + sizes_hidden + [nlabels]"
   ]
  },
  {
   "cell_type": "code",
   "execution_count": null,
   "metadata": {
    "collapsed": false,
    "scrolled": true
   },
   "outputs": [],
   "source": [
    "fnn = FNN(sizes, wimethod = ANN.XAVIER_NORMAL, debug = True)\n",
    "fnn.fit(features, labels)"
   ]
  },
  {
   "cell_type": "markdown",
   "metadata": {},
   "source": [
    "### Recurrent Neural Networks (RNNs)\n",
    "\n",
    "Consider the case of Feedforward Neural Networks. Each sample from the training set passed through the network thereby resulting a desired output. In no case did the next input to be fed showed any dependency with its previous sample. But what about training samples that exhibit relationships between their inputs? At the same time, what about a training sample that denotes an output dependent on not only the current sample but also its previous training samples? One of the answers to this are languages; and here is where Recurrent Nerual Networks comes to our rescue.\n",
    "\n",
    "A Recurrent Neural Network (hereby, RNN) is a kind of an Artificial Neural Network that considers the question *at which time-step did you feed your input?* This encourages us to use RNNs for **modelling sequences**.\n",
    "\n",
    "#### Architecture\n",
    "A *vanilla* Recurrent Neural Network's (hereby, RNN) architecture can be defined as follows:\n",
    "\n",
    "\\begin{align*}\n",
    "h_{t} &= \\theta\\hspace{2mm}\\phi(h_{t-1}) + \\theta_{x}x_{t} \\\\\n",
    "y_{t} &= \\theta_{y}\\phi(h_{t})\n",
    "\\end{align*}\n",
    "\n",
    "where\n",
    "$x_{t}$ is the input vector at time-step $t$, $h_t$ and $h_{t-1}$ denote the state of the hidden layer at time-step $t$ and $t-1$ respectively, $y_{t}$ denotes the output vector at time $t$, $\\theta_{x}$ denotes the parameter (weight) used to condition the input vector $x$ at time-step $t$, $\\theta_{h_{t-1}}$ denotes the parameter (weight) used to condition the hidden layer $h$ at time-step $t-1$, $\\theta_{y}$ denotes the parameter (weight) used to condition the hidden layer $h$ at time-step $t$ and $\\phi(x)$ denotes the activation function (typically, a non-linear function). Also, $h_{0}$ would be the initialization vector at time-step $t = 1$.\n",
    "\n",
    "A nice way to look at the architecture is the *\"time-step dependency\"* relationship between $h_{t}$ and $h_{t-1}$ it exhibits."
   ]
  },
  {
   "cell_type": "markdown",
   "metadata": {},
   "source": [
    "#### The \"Vanishing\" and \"Exploding\" Gradient Problem\n",
    "\n",
    "In order to estimate the error recieved from the RNN, we'd have to consider the sum of error derivatives with respect to $\\theta$ generated at each time-step. Hence,\n",
    "\n",
    "\\begin{align*}\n",
    "\\frac{\\partial E}{\\partial \\theta} &= \\sum_{t = 1}^{S} \\frac{\\partial E_{t}}{\\partial \\theta} \\\\\n",
    "\\frac{\\partial E_{t}}{\\partial \\theta} &= \\sum_{k = 1}^{t} \\frac{\\partial E_{t}}{\\partial y_{t}} \\frac{\\partial y_{t}}{\\partial h_{t}} \\frac{\\partial h_{t}}{\\partial h_{k}} \\frac{\\partial h_{k}}{\\partial \\theta_{t}}\n",
    "\\end{align*}\n",
    "\n",
    "where $S$ is the number of time-steps. Notice how the last two partial derivative factors at each time-step also relies on the previous $k$ time-steps. The term $\\frac{\\partial h_{t}}{\\partial h_{k}}$ denotes the partial derivative of the hidden layer at time-step $t$ with respect to the partial derivative of all the time-steps previous to it and can be given as:\n",
    "\n",
    "\\begin{align*}\n",
    "\\frac{\\partial h_{t}}{\\partial h_{k}} &= \\prod_{i = k + 1}^{t} \\frac{\\partial h_{i}}{\\partial h_{i - 1}} \\\\\n",
    "                                      &= \\prod_{i = k + 1}^{t} \\frac{\\partial (\\theta\\phi(h_{i-1}) + \\theta_{x}x_{i})}{\\partial h_{i - 1}} \\\\\n",
    "                                      &= \\prod_{i = k + 1}^{t} \\theta^{T} diag[\\phi'(h_{i - 1})]\n",
    "\\end{align*}"
   ]
  },
  {
   "cell_type": "markdown",
   "metadata": {},
   "source": [
    "### Long Short-Term Memory (LSTMs)\n",
    "##### Solving the \"Vanishing\" and \"Exploding\" Gradient Problem"
   ]
  },
  {
   "cell_type": "markdown",
   "metadata": {},
   "source": [
    "## 5. Genetic Algorithms\n",
    "> *Survival of the fittest* - Charles Darwin, *On the Origin of Species*\n",
    "\n",
    "Our ability to learn is in itself - evolutionary; and the principles behind Genetic Algorithms are no different. Of course, the very nature of evolution is nothing but cell optimization over time.\n",
    "\n",
    "#### 1. Selection\n",
    "We select individuals that seem a best fit to our objective function (or fitness function) that can survive for the next generation.\n",
    "#### 2. Crossover\n",
    "Our individuals of the next generation perform a genetic crossover (sharing genetic information) that aim to perform a better generation of individuals that can survive our fitness function.\n",
    "#### 3. Mutation\n",
    "Mutation occurs when there is a kind of deformation of genes by say, exposure to radiation. In practice, this can be achieved by randomizing our string to an extent to form new individuals that aim to try preserving some genetic diversity.\n",
    "#### 4. Sampling\n",
    "Our resultant genetic diversity now creates new offsprings from these individuals recieved.\n",
    "\n",
    "We can now formulate a generalized algorithm for Genetic Algorithms as follows:\n"
   ]
  },
  {
   "cell_type": "markdown",
   "metadata": {},
   "source": [
    "## Case Study 1\n",
    "> Performance Analysis of\n",
    "> 1. k Nearest Neighbours (k-NN)\n",
    "> 2. Artificial Neural Networks (ANN)\n",
    "> 3. Support Vector Machines (SVM)\n",
    "\n",
    "> Using Cotton Germplasm Classification"
   ]
  },
  {
   "cell_type": "markdown",
   "metadata": {},
   "source": [
    "#### The Art of a Structured Approach\n",
    "In order to tackle any given Machine Learning problem, a standard and structured approach is required. For this purpose, I've built a [mind map](https://www.mindmeister.com/786639893/machine-learning) that can help you make your way towards building any (almost) model. We'll be using the same mind map to tackle our problem for this case study.\n",
    "\n",
    "Our analysis involves a combination of various algorithms right from Data Preprocessing to Estimation. We can consider building a **Pipeline** that can perform these steps in sequence, thereby deriving analysis for all cases we'll be considering.\n",
    "\n",
    "#### Pipelines\n",
    "You can consider a pipeline as a container of steps that can be formulated throughout the process of development and deployment. Our data set undergoes a series of phases - processing (missing value imputation, removing outliers), transformation, cross-validation, etc. We can stack these steps into one model and pass our data set through our pipeline in one go, recieving output at the other end.\n",
    "\n",
    "`sklearn` has an amazing module dedicated to pipelining your project."
   ]
  },
  {
   "cell_type": "code",
   "execution_count": 1,
   "metadata": {
    "collapsed": true
   },
   "outputs": [],
   "source": [
    "from sklearn.pipeline import Pipeline"
   ]
  },
  {
   "cell_type": "markdown",
   "metadata": {},
   "source": [
    "### Index\n",
    "1. Problem Definition\n",
    "    1. Statement\n",
    "    -  Description\n",
    "    -  Data Set\n",
    "    -  Motivation\n",
    "-  Domain Knowledge\n",
    "-  Data Preprocessing"
   ]
  },
  {
   "cell_type": "markdown",
   "metadata": {},
   "source": [
    "### 1. Problem Definition\n",
    "Probably one of the most neglected step in approaching any problem, is formulating the problem itself. A mere definition of the problem won't make much of a difference unless you deep dive into the problem and understand its true required outcome. When one tends to deviate from our original task, we can always refer to our original problem statement.\n",
    "\n",
    "Let's define a formal description of our problem.\n",
    "#### Statement\n",
    "> Given a data set containing 36 germplasm features corresponding to any one of the six groups (Marker, Variety, Okra, New, BBR and JBWR) of cotton, build an efficient prediction model that is able to ***classify*** under which group does any given input set of germplasm features of cotton lie within.\n",
    "\n",
    "#### Description\n",
    "Based on our Statement, our problem can be termed as a ***multi-class classification problem***. Our job is to analyse and build an efficient model that is able to classify any given cotton species with respect to any of the six groups. \n",
    "\n",
    "Although our job sounds simple, nothing can be said until we have a good view of our data set.\n",
    "\n",
    "#### Data Set\n",
    "Our data set is been provided by the Central Institute of Cotton Research (CICR), Nagpur, India. An initial insight into our acquired data set shows us a high degree of unstructuredness, noise and ambiguities within our data set. We recieved a data set in its utmost **raw** form. Suprisingly, a large number of real-world data sets are raw, and unstructured in all ways you can possibly imagine. You can have a look of our raw data set on this [link](https://docs.google.com/spreadsheets/d/1G1DxvARGx6cwDAjKJVMTOB7gHMKdoyvyE9z8a9IVDMM/pubhtml?gid=1069753827&single=true).\n",
    "\n",
    "A great amount of data preprocessing will be required only after which we will be able to analyse and profile our data set well.\n",
    "\n",
    "#### Motivation\n",
    "An exclusive subdomain called as Agricultural Data Science exists that is dedicated building prediction models that can identify undiscovered species and species identification without testing for various parameters. A cotton sample or an undiscovered species can be classified into a destined group using a classifier model that we propose to build."
   ]
  },
  {
   "cell_type": "markdown",
   "metadata": {},
   "source": [
    "### 2. Domain Knowledge\n",
    "In some cases (such as ours), a decent domain knowledge would be necessary to help us understand and approach our data set better. I solemly declare myself to be naive in the field of seed science. After some research (basically Googling), I came across this Doctoral Thesis [[13]](#References) by Dr. Harish S. that can help us understand more about Cotton Germplasm. For instance, many discrepancies within the recieved data set were resolved thanks to a little bit of knowledge about what exactly our features denote. "
   ]
  },
  {
   "cell_type": "markdown",
   "metadata": {},
   "source": [
    "### 3. Data Preprocessing\n",
    "Data Preprocessing is possibly one of the most tedious and time-consuming part of building a learning/prediction model. You can consider yourself lucky if you are working on a preprocessed data set. In real world however, a large amount of data sets are noisy, inconsistent and unstructured in nature.\n",
    "\n",
    "#### Q. Why Preprocessing?\n",
    "As we have seen, Machine Learning algorithms although sound smart, but aren't smart enough. A raw data set holds a high dregree of noise (inconsistencies, discrepancies, etc.). The *GIGO* principle applies very well in our field of Machine Learning which states - ***\"garbage in, garbage out\"***. This means that if you were to feed inconsistent logic into your machine, you recieve equally flawed conclusions from it.\n",
    "\n",
    "#### Preprocessing through Human Intervention\n",
    "Making our data representable into a tabular format requires some kind of human intervention. I initially recieved the data set in an Excel sheet. After a day of data munging, I successfully converted our [dirty data](https://docs.google.com/spreadsheets/d/1LMYli4mkWrAuDSihFQ6w6raAJbEfebs3VlJUXT1wk88/pubhtml) to a [cleaned one](https://docs.google.com/spreadsheets/d/1PQlCQvYvdGDidxtgnAQeIbcY6fdKuBVeS-6LSxo2xtk/pubhtml)."
   ]
  },
  {
   "cell_type": "markdown",
   "metadata": {},
   "source": [
    "#### Loading our data set\n",
    "Let's load our data set into Pandas' DataFrame Object that can be further used to generate our training, validation and testing sets."
   ]
  },
  {
   "cell_type": "code",
   "execution_count": 2,
   "metadata": {
    "collapsed": true
   },
   "outputs": [],
   "source": [
    "import pandas as pd"
   ]
  },
  {
   "cell_type": "markdown",
   "metadata": {},
   "source": [
    "I've created a function `load_cotton` which returns our data wrapped into a Pandas's DataFrame Object."
   ]
  },
  {
   "cell_type": "code",
   "execution_count": 3,
   "metadata": {
    "collapsed": true
   },
   "outputs": [],
   "source": [
    "def load_cotton():\n",
    "    path = './data/cotton/cotton.csv'\n",
    "    df   = pd.read_csv(path)\n",
    "    \n",
    "    return df"
   ]
  },
  {
   "cell_type": "code",
   "execution_count": 4,
   "metadata": {
    "collapsed": false
   },
   "outputs": [],
   "source": [
    "df = load_cotton()"
   ]
  },
  {
   "cell_type": "markdown",
   "metadata": {},
   "source": [
    "#### Data Description"
   ]
  },
  {
   "cell_type": "markdown",
   "metadata": {},
   "source": [
    "We can view a sample of our data set using `pandas.DataFrame.sample` method."
   ]
  },
  {
   "cell_type": "code",
   "execution_count": 5,
   "metadata": {
    "collapsed": false
   },
   "outputs": [
    {
     "data": {
      "text/html": [
       "<div>\n",
       "<table border=\"1\" class=\"dataframe\">\n",
       "  <thead>\n",
       "    <tr style=\"text-align: right;\">\n",
       "      <th></th>\n",
       "      <th>Hypocotyl: Pigmentation</th>\n",
       "      <th>Leaf: Colour</th>\n",
       "      <th>Leaf: Hairiness</th>\n",
       "      <th>Leaf: Appearance</th>\n",
       "      <th>Leaf: Gossypol Glands</th>\n",
       "      <th>Leaf: Nectaries</th>\n",
       "      <th>Leaf: Petiole Pigmentation</th>\n",
       "      <th>Leaf: Shape</th>\n",
       "      <th>Plant: Stem Hairiness</th>\n",
       "      <th>Plant: Stem Pigmentation</th>\n",
       "      <th>...</th>\n",
       "      <th>Seed: Fuzz</th>\n",
       "      <th>Seed: Fuzz Colour</th>\n",
       "      <th>Seed: Index (100 seed weight in grams)</th>\n",
       "      <th>Ginning (%)</th>\n",
       "      <th>Fibre: Colour</th>\n",
       "      <th>Fibre: Length (2.5% span length in mm)</th>\n",
       "      <th>Fibre: Strength (G/Tex)</th>\n",
       "      <th>Fibre: Fineness (micronaire value)</th>\n",
       "      <th>Fibre: Uniformity (%)</th>\n",
       "      <th>Group</th>\n",
       "    </tr>\n",
       "  </thead>\n",
       "  <tbody>\n",
       "    <tr>\n",
       "      <th>102</th>\n",
       "      <td>Present</td>\n",
       "      <td>Light Green</td>\n",
       "      <td>Sparse</td>\n",
       "      <td>Flat</td>\n",
       "      <td>283.0</td>\n",
       "      <td>NaN</td>\n",
       "      <td>Present</td>\n",
       "      <td>Palmate</td>\n",
       "      <td>Sparse</td>\n",
       "      <td>Absent</td>\n",
       "      <td>...</td>\n",
       "      <td>Medium</td>\n",
       "      <td>Grey</td>\n",
       "      <td>6.5</td>\n",
       "      <td>37.8</td>\n",
       "      <td>White</td>\n",
       "      <td>22.6</td>\n",
       "      <td>19.2</td>\n",
       "      <td>3.1</td>\n",
       "      <td>49.0</td>\n",
       "      <td>Variety</td>\n",
       "    </tr>\n",
       "    <tr>\n",
       "      <th>185</th>\n",
       "      <td>Present</td>\n",
       "      <td>Light Green</td>\n",
       "      <td>Sparse</td>\n",
       "      <td>Cup</td>\n",
       "      <td>227.0</td>\n",
       "      <td>Present</td>\n",
       "      <td>Present (Faint)</td>\n",
       "      <td>Palmate</td>\n",
       "      <td>Sparse</td>\n",
       "      <td>Absent</td>\n",
       "      <td>...</td>\n",
       "      <td>Medium</td>\n",
       "      <td>Grey</td>\n",
       "      <td>7.5</td>\n",
       "      <td>40.2</td>\n",
       "      <td>White</td>\n",
       "      <td>24.7</td>\n",
       "      <td>19.5</td>\n",
       "      <td>3.2</td>\n",
       "      <td>50.0</td>\n",
       "      <td>JBWR</td>\n",
       "    </tr>\n",
       "    <tr>\n",
       "      <th>237</th>\n",
       "      <td>Present</td>\n",
       "      <td>NaN</td>\n",
       "      <td>NaN</td>\n",
       "      <td>NaN</td>\n",
       "      <td>167.0</td>\n",
       "      <td>NaN</td>\n",
       "      <td>NaN</td>\n",
       "      <td>NaN</td>\n",
       "      <td>NaN</td>\n",
       "      <td>NaN</td>\n",
       "      <td>...</td>\n",
       "      <td>Medium</td>\n",
       "      <td>White</td>\n",
       "      <td>6.0</td>\n",
       "      <td>23.5</td>\n",
       "      <td>NaN</td>\n",
       "      <td>NaN</td>\n",
       "      <td>NaN</td>\n",
       "      <td>NaN</td>\n",
       "      <td>NaN</td>\n",
       "      <td>JBWR</td>\n",
       "    </tr>\n",
       "  </tbody>\n",
       "</table>\n",
       "<p>3 rows × 37 columns</p>\n",
       "</div>"
      ],
      "text/plain": [
       "    Hypocotyl: Pigmentation Leaf: Colour Leaf: Hairiness Leaf: Appearance  \\\n",
       "102                 Present  Light Green          Sparse             Flat   \n",
       "185                 Present  Light Green          Sparse              Cup   \n",
       "237                 Present          NaN             NaN              NaN   \n",
       "\n",
       "     Leaf: Gossypol Glands Leaf: Nectaries Leaf: Petiole Pigmentation  \\\n",
       "102                  283.0             NaN                    Present   \n",
       "185                  227.0         Present            Present (Faint)   \n",
       "237                  167.0             NaN                        NaN   \n",
       "\n",
       "    Leaf: Shape Plant: Stem Hairiness Plant: Stem Pigmentation   ...     \\\n",
       "102     Palmate                Sparse                   Absent   ...      \n",
       "185     Palmate                Sparse                   Absent   ...      \n",
       "237         NaN                   NaN                      NaN   ...      \n",
       "\n",
       "     Seed: Fuzz Seed: Fuzz Colour Seed: Index (100 seed weight in grams)  \\\n",
       "102      Medium              Grey                                    6.5   \n",
       "185      Medium              Grey                                    7.5   \n",
       "237      Medium             White                                    6.0   \n",
       "\n",
       "     Ginning (%) Fibre: Colour Fibre: Length (2.5% span length in mm)  \\\n",
       "102         37.8         White                                   22.6   \n",
       "185         40.2         White                                   24.7   \n",
       "237         23.5           NaN                                    NaN   \n",
       "\n",
       "    Fibre: Strength (G/Tex) Fibre: Fineness (micronaire value)  \\\n",
       "102                    19.2                                3.1   \n",
       "185                    19.5                                3.2   \n",
       "237                     NaN                                NaN   \n",
       "\n",
       "    Fibre: Uniformity (%)    Group  \n",
       "102                  49.0  Variety  \n",
       "185                  50.0     JBWR  \n",
       "237                   NaN     JBWR  \n",
       "\n",
       "[3 rows x 37 columns]"
      ]
     },
     "execution_count": 5,
     "metadata": {},
     "output_type": "execute_result"
    }
   ],
   "source": [
    "nsamples = 3\n",
    "df.sample(nsamples)"
   ]
  },
  {
   "cell_type": "markdown",
   "metadata": {},
   "source": [
    "We shall follow a strict protocol [[12]](#References) of preprocessing our data which is as follows:\n",
    "1. Data Cleaning\n",
    "2. Data Integration\n",
    "3. Data Reduction\n",
    "4. Data Transformation\n",
    "\n",
    "`sklearn` has an entire module called `preprocessing` that can help us with this phase of our solution."
   ]
  },
  {
   "cell_type": "markdown",
   "metadata": {},
   "source": [
    "#### 1. Data Cleaning\n",
    "In order to increase the quality of our data set for analysis, some steps need to be considered for the following cases:\n",
    "1. Missing Values\n",
    "2. Duplicate Data\n",
    "3. Inconsistent Data\n",
    "4. Noise\n",
    "5. Outliers\n",
    "\n",
    "#### 1. Missing Values\n",
    "We can get away with missing values by either:\n",
    "1. Ignoring our missing values.\n",
    "-  Manually filling missing values.\n",
    "-  Deleting training tuples that contain missing values.\n",
    "-  Substituting a value in place of a missing value.\n",
    "\n",
    "Ignoring our missing values is certainly not the option since not all predictive models consider missing values (k-NN in this case). Secondly, manually filling out missing values is probably the slowest method and requires an extensive understanding of our problem's domain. Third, deleting our training tuples with missing values could remove a large amount of relavant data that could help our model to learn better. `pandas` has a function called `DataFrame.dropna()` if you wish to consider deleting missing values *(not recommended)*.\n",
    "\n",
    "Our final case would be clearly substituting a value in place of missing values. We call this as ***Imputation of Missing Values***. A wide range of stratergies and algorithms exists to impute missing values.\n",
    "\n",
    "1. Filling NA/NaN cells with the ***mean (numeric), median (numeric)*** or ***mode (numeric and categorical)*** of the corresponding feature vector: Considering the mean, median or mode (measures of center) is although plausible, but not necessarily efficient.\n",
    "-  Filling NA/NaN cells using clustering algorithms."
   ]
  },
  {
   "cell_type": "markdown",
   "metadata": {},
   "source": [
    "Let's find the percentage of missing values present throughout the data set."
   ]
  },
  {
   "cell_type": "code",
   "execution_count": 6,
   "metadata": {
    "collapsed": false
   },
   "outputs": [
    {
     "data": {
      "text/plain": [
       "7.8847442483806125"
      ]
     },
     "execution_count": 6,
     "metadata": {},
     "output_type": "execute_result"
    }
   ],
   "source": [
    "(df.isnull().sum().sum() / df.size) * 100"
   ]
  },
  {
   "cell_type": "markdown",
   "metadata": {},
   "source": [
    "About $7.88\\%$ of our entire data set contains missing values. We can also visualize the percentage amount of missing data present within each feature vector as follows:"
   ]
  },
  {
   "cell_type": "code",
   "execution_count": 7,
   "metadata": {
    "collapsed": false
   },
   "outputs": [],
   "source": [
    "import matplotlib.pyplot as plt\n",
    "import seaborn as sns"
   ]
  },
  {
   "cell_type": "code",
   "execution_count": 8,
   "metadata": {
    "collapsed": false
   },
   "outputs": [
    {
     "data": {
      "image/png": "[encoded data removed]",
      "text/plain": [
       "<matplotlib.figure.Figure at 0x7f4e6474df98>"
      ]
     },
     "metadata": {},
     "output_type": "display_data"
    }
   ],
   "source": [
    "frame = (df.isnull().sum() / len(df)).sort_values() * 100\n",
    "ax    = frame.plot.bar()\n",
    "\n",
    "ax.set_title('Percentage of Missing Values')\n",
    "\n",
    "plt.show()"
   ]
  },
  {
   "cell_type": "markdown",
   "metadata": {},
   "source": [
    "*Plant: Growth Habit* and *Leaf: Nectaries* feature vectors seem to consists a high amount of missing data. Will dropping these columns affect the overall performance of our model? What about post imputation?\n",
    "\n",
    "Well, nothing can be said for now."
   ]
  },
  {
   "cell_type": "markdown",
   "metadata": {},
   "source": [
    "Let's build a Transformer that can impute missing data within our data set. We can then pass such a transformer with a desired algorithm through our pipeline.\n",
    "\n",
    "`sklearn` has a powerful `TransformerMixin` class that can be utilized to build our Imputation class. Our class shall be just a wrapper around `fancyimpute` (a library containing a wide range of imputation stratergies)."
   ]
  },
  {
   "cell_type": "code",
   "execution_count": 9,
   "metadata": {
    "collapsed": false
   },
   "outputs": [
    {
     "name": "stderr",
     "output_type": "stream",
     "text": [
      "Using TensorFlow backend.\n"
     ]
    }
   ],
   "source": [
    "import numpy as np\n",
    "from sklearn.base import BaseEstimator, TransformerMixin\n",
    "from sklearn.preprocessing import LabelEncoder, OneHotEncoder\n",
    "from collections import defaultdict\n",
    "from fancyimpute  import *"
   ]
  },
  {
   "cell_type": "code",
   "execution_count": 10,
   "metadata": {
    "collapsed": false
   },
   "outputs": [],
   "source": [
    "class Imputer(TransformerMixin):\n",
    "    MEAN   = 1\n",
    "    MEDIAN = 2\n",
    "    MODE   = 3\n",
    "    KNN    = 4\n",
    "    \n",
    "    def __init__(self,\n",
    "                 missing_values = np.nan,\n",
    "                 strategy       = MEAN,\n",
    "                 axis           = 1,\n",
    "                 copy           = True):\n",
    "        self.missing_values = missing_values\n",
    "        self.strategy       = strategy\n",
    "        self.axis           = axis\n",
    "        self.copy           = copy\n",
    "    \n",
    "    def fit(self, X, y = None):\n",
    "        if self.strategy is Imputer.MEAN:\n",
    "            self.imputer = SimpleFill(fill_method = \"mean\")\n",
    "        if self.strategy is Imputer.MEDIAN:\n",
    "            self.imputer = SimpleFill(fill_method = \"median\")\n",
    "            \n",
    "        return self\n",
    "            \n",
    "    def transform(self, X):\n",
    "        columns     = X.columns\n",
    "        numeric     = [column for column in columns if X[column].dtype != 'object']\n",
    "        \n",
    "        df          = X.copy() if self.copy else X\n",
    "        \n",
    "        try:\n",
    "            df[numeric] = self.imputer.complete(X[numeric])\n",
    "        except ValueError:\n",
    "            pass\n",
    "        \n",
    "        return df"
   ]
  },
  {
   "cell_type": "code",
   "execution_count": 11,
   "metadata": {
    "collapsed": false
   },
   "outputs": [
    {
     "data": {
      "text/html": [
       "<div>\n",
       "<table border=\"1\" class=\"dataframe\">\n",
       "  <thead>\n",
       "    <tr style=\"text-align: right;\">\n",
       "      <th></th>\n",
       "      <th>Hypocotyl: Pigmentation</th>\n",
       "      <th>Leaf: Colour</th>\n",
       "      <th>Leaf: Hairiness</th>\n",
       "      <th>Leaf: Appearance</th>\n",
       "      <th>Leaf: Gossypol Glands</th>\n",
       "      <th>Leaf: Nectaries</th>\n",
       "      <th>Leaf: Petiole Pigmentation</th>\n",
       "      <th>Leaf: Shape</th>\n",
       "      <th>Plant: Stem Hairiness</th>\n",
       "      <th>Plant: Stem Pigmentation</th>\n",
       "      <th>...</th>\n",
       "      <th>Seed: Fuzz</th>\n",
       "      <th>Seed: Fuzz Colour</th>\n",
       "      <th>Seed: Index (100 seed weight in grams)</th>\n",
       "      <th>Ginning (%)</th>\n",
       "      <th>Fibre: Colour</th>\n",
       "      <th>Fibre: Length (2.5% span length in mm)</th>\n",
       "      <th>Fibre: Strength (G/Tex)</th>\n",
       "      <th>Fibre: Fineness (micronaire value)</th>\n",
       "      <th>Fibre: Uniformity (%)</th>\n",
       "      <th>Group</th>\n",
       "    </tr>\n",
       "  </thead>\n",
       "  <tbody>\n",
       "    <tr>\n",
       "      <th>117</th>\n",
       "      <td>Present</td>\n",
       "      <td>Light Green</td>\n",
       "      <td>Sparse</td>\n",
       "      <td>Flat</td>\n",
       "      <td>181.0</td>\n",
       "      <td>NaN</td>\n",
       "      <td>Present (Faint)</td>\n",
       "      <td>Palmate</td>\n",
       "      <td>Sparse</td>\n",
       "      <td>Absent</td>\n",
       "      <td>...</td>\n",
       "      <td>Medium</td>\n",
       "      <td>Grey</td>\n",
       "      <td>6.5</td>\n",
       "      <td>38.1</td>\n",
       "      <td>White</td>\n",
       "      <td>25.1</td>\n",
       "      <td>21.2</td>\n",
       "      <td>2.8</td>\n",
       "      <td>49.0</td>\n",
       "      <td>Variety</td>\n",
       "    </tr>\n",
       "    <tr>\n",
       "      <th>199</th>\n",
       "      <td>Present</td>\n",
       "      <td>Light Green</td>\n",
       "      <td>Sparse</td>\n",
       "      <td>Flat</td>\n",
       "      <td>163.0</td>\n",
       "      <td>Present</td>\n",
       "      <td>Present (Faint)</td>\n",
       "      <td>Palmate</td>\n",
       "      <td>Sparse</td>\n",
       "      <td>Absent</td>\n",
       "      <td>...</td>\n",
       "      <td>Medium</td>\n",
       "      <td>Grey</td>\n",
       "      <td>7.0</td>\n",
       "      <td>36.6</td>\n",
       "      <td>White</td>\n",
       "      <td>26.2</td>\n",
       "      <td>19.6</td>\n",
       "      <td>3.1</td>\n",
       "      <td>47.0</td>\n",
       "      <td>JBWR</td>\n",
       "    </tr>\n",
       "    <tr>\n",
       "      <th>108</th>\n",
       "      <td>Present</td>\n",
       "      <td>Light Green</td>\n",
       "      <td>Sparse</td>\n",
       "      <td>Flat</td>\n",
       "      <td>196.0</td>\n",
       "      <td>NaN</td>\n",
       "      <td>Present</td>\n",
       "      <td>Palmate</td>\n",
       "      <td>Sparse</td>\n",
       "      <td>Absent</td>\n",
       "      <td>...</td>\n",
       "      <td>Medium</td>\n",
       "      <td>Grey</td>\n",
       "      <td>7.0</td>\n",
       "      <td>35.9</td>\n",
       "      <td>White</td>\n",
       "      <td>22.1</td>\n",
       "      <td>20.7</td>\n",
       "      <td>3.5</td>\n",
       "      <td>50.0</td>\n",
       "      <td>Variety</td>\n",
       "    </tr>\n",
       "  </tbody>\n",
       "</table>\n",
       "<p>3 rows × 37 columns</p>\n",
       "</div>"
      ],
      "text/plain": [
       "    Hypocotyl: Pigmentation Leaf: Colour Leaf: Hairiness Leaf: Appearance  \\\n",
       "117                 Present  Light Green          Sparse             Flat   \n",
       "199                 Present  Light Green          Sparse             Flat   \n",
       "108                 Present  Light Green          Sparse             Flat   \n",
       "\n",
       "     Leaf: Gossypol Glands Leaf: Nectaries Leaf: Petiole Pigmentation  \\\n",
       "117                  181.0             NaN            Present (Faint)   \n",
       "199                  163.0         Present            Present (Faint)   \n",
       "108                  196.0             NaN                    Present   \n",
       "\n",
       "    Leaf: Shape Plant: Stem Hairiness Plant: Stem Pigmentation   ...     \\\n",
       "117     Palmate                Sparse                   Absent   ...      \n",
       "199     Palmate                Sparse                   Absent   ...      \n",
       "108     Palmate                Sparse                   Absent   ...      \n",
       "\n",
       "     Seed: Fuzz Seed: Fuzz Colour Seed: Index (100 seed weight in grams)  \\\n",
       "117      Medium              Grey                                    6.5   \n",
       "199      Medium              Grey                                    7.0   \n",
       "108      Medium              Grey                                    7.0   \n",
       "\n",
       "     Ginning (%) Fibre: Colour Fibre: Length (2.5% span length in mm)  \\\n",
       "117         38.1         White                                   25.1   \n",
       "199         36.6         White                                   26.2   \n",
       "108         35.9         White                                   22.1   \n",
       "\n",
       "    Fibre: Strength (G/Tex) Fibre: Fineness (micronaire value)  \\\n",
       "117                    21.2                                2.8   \n",
       "199                    19.6                                3.1   \n",
       "108                    20.7                                3.5   \n",
       "\n",
       "    Fibre: Uniformity (%)    Group  \n",
       "117                  49.0  Variety  \n",
       "199                  47.0     JBWR  \n",
       "108                  50.0  Variety  \n",
       "\n",
       "[3 rows x 37 columns]"
      ]
     },
     "execution_count": 11,
     "metadata": {},
     "output_type": "execute_result"
    }
   ],
   "source": [
    "imputer = Imputer()\n",
    "df      = imputer.fit_transform(df)\n",
    "df.sample(nsamples)"
   ]
  },
  {
   "cell_type": "markdown",
   "metadata": {},
   "source": [
    "In case of our numerical feature variables, we successfully imputed our missing values with the mean of that feature vector. Let's view the reduction of NA/NaN's present within our data set."
   ]
  },
  {
   "cell_type": "code",
   "execution_count": 12,
   "metadata": {
    "collapsed": false
   },
   "outputs": [
    {
     "data": {
      "text/plain": [
       "3.7413446504355594"
      ]
     },
     "execution_count": 12,
     "metadata": {},
     "output_type": "execute_result"
    }
   ],
   "source": [
    "(df.isnull().sum().sum() / df.size) * 100"
   ]
  },
  {
   "cell_type": "markdown",
   "metadata": {},
   "source": [
    "Aha! We've reduced our number of missing values so far from about $7.88 \\%$ to $3.74 \\%$. In case of our categorical features, we shall consider a string entity \"NA\" in place of our global constant  `np.nan`"
   ]
  },
  {
   "cell_type": "code",
   "execution_count": 13,
   "metadata": {
    "collapsed": false
   },
   "outputs": [],
   "source": [
    "df.fillna('NA', inplace = True)"
   ]
  },
  {
   "cell_type": "markdown",
   "metadata": {},
   "source": [
    "Let's now look at our final decrease in missing values after successful imputation."
   ]
  },
  {
   "cell_type": "code",
   "execution_count": 14,
   "metadata": {
    "collapsed": false
   },
   "outputs": [
    {
     "data": {
      "text/plain": [
       "0.0"
      ]
     },
     "execution_count": 14,
     "metadata": {},
     "output_type": "execute_result"
    }
   ],
   "source": [
    "(df.isnull().sum().sum() / df.size) * 100"
   ]
  },
  {
   "cell_type": "markdown",
   "metadata": {},
   "source": [
    "As expected, we've successfully imputed our missing values within our data set for both, categorical as well as numerical features."
   ]
  },
  {
   "cell_type": "markdown",
   "metadata": {},
   "source": [
    "### Visualization"
   ]
  },
  {
   "cell_type": "markdown",
   "metadata": {},
   "source": [
    "`pandas` has a great plotting module extension to `matplotlib` that can help us visualizing mutli-variate data. Keeping our objective in mind, we can somewhat visualize our multi-variate data using n-dimensional visualizations, one being the Andrews Plot."
   ]
  },
  {
   "cell_type": "code",
   "execution_count": 15,
   "metadata": {
    "collapsed": true
   },
   "outputs": [],
   "source": [
    "from pandas.tools.plotting import andrews_curves"
   ]
  },
  {
   "cell_type": "markdown",
   "metadata": {},
   "source": [
    "Since Andrew's Plot is a plot of our features versus a smooth curve function, we would require to convert our data set into something numeric. In case of categorical data, one way to achieve our objective is to use `scikit-learn`'s `LabelEncoder` class that converts our categorical data corresponding to a numerical value."
   ]
  },
  {
   "cell_type": "code",
   "execution_count": 16,
   "metadata": {
    "collapsed": true
   },
   "outputs": [],
   "source": [
    "from sklearn.preprocessing import LabelEncoder\n",
    "from collections           import defaultdict"
   ]
  },
  {
   "cell_type": "code",
   "execution_count": 17,
   "metadata": {
    "collapsed": false
   },
   "outputs": [
    {
     "data": {
      "text/html": [
       "<div>\n",
       "<table border=\"1\" class=\"dataframe\">\n",
       "  <thead>\n",
       "    <tr style=\"text-align: right;\">\n",
       "      <th></th>\n",
       "      <th>Hypocotyl: Pigmentation</th>\n",
       "      <th>Leaf: Colour</th>\n",
       "      <th>Leaf: Hairiness</th>\n",
       "      <th>Leaf: Appearance</th>\n",
       "      <th>Leaf: Gossypol Glands</th>\n",
       "      <th>Leaf: Nectaries</th>\n",
       "      <th>Leaf: Petiole Pigmentation</th>\n",
       "      <th>Leaf: Shape</th>\n",
       "      <th>Plant: Stem Hairiness</th>\n",
       "      <th>Plant: Stem Pigmentation</th>\n",
       "      <th>...</th>\n",
       "      <th>Seed: Fuzz</th>\n",
       "      <th>Seed: Fuzz Colour</th>\n",
       "      <th>Seed: Index (100 seed weight in grams)</th>\n",
       "      <th>Ginning (%)</th>\n",
       "      <th>Fibre: Colour</th>\n",
       "      <th>Fibre: Length (2.5% span length in mm)</th>\n",
       "      <th>Fibre: Strength (G/Tex)</th>\n",
       "      <th>Fibre: Fineness (micronaire value)</th>\n",
       "      <th>Fibre: Uniformity (%)</th>\n",
       "      <th>Group</th>\n",
       "    </tr>\n",
       "  </thead>\n",
       "  <tbody>\n",
       "    <tr>\n",
       "      <th>146</th>\n",
       "      <td>0</td>\n",
       "      <td>2</td>\n",
       "      <td>5</td>\n",
       "      <td>1</td>\n",
       "      <td>208.0</td>\n",
       "      <td>1</td>\n",
       "      <td>2</td>\n",
       "      <td>3</td>\n",
       "      <td>5</td>\n",
       "      <td>0</td>\n",
       "      <td>...</td>\n",
       "      <td>2</td>\n",
       "      <td>3</td>\n",
       "      <td>7.420476</td>\n",
       "      <td>35.275429</td>\n",
       "      <td>3</td>\n",
       "      <td>24.619118</td>\n",
       "      <td>19.687745</td>\n",
       "      <td>3.208333</td>\n",
       "      <td>49.019608</td>\n",
       "      <td>3</td>\n",
       "    </tr>\n",
       "    <tr>\n",
       "      <th>180</th>\n",
       "      <td>1</td>\n",
       "      <td>1</td>\n",
       "      <td>5</td>\n",
       "      <td>1</td>\n",
       "      <td>158.0</td>\n",
       "      <td>2</td>\n",
       "      <td>5</td>\n",
       "      <td>3</td>\n",
       "      <td>5</td>\n",
       "      <td>0</td>\n",
       "      <td>...</td>\n",
       "      <td>1</td>\n",
       "      <td>2</td>\n",
       "      <td>7.500000</td>\n",
       "      <td>39.810000</td>\n",
       "      <td>4</td>\n",
       "      <td>25.500000</td>\n",
       "      <td>21.100000</td>\n",
       "      <td>3.500000</td>\n",
       "      <td>48.000000</td>\n",
       "      <td>1</td>\n",
       "    </tr>\n",
       "    <tr>\n",
       "      <th>68</th>\n",
       "      <td>1</td>\n",
       "      <td>2</td>\n",
       "      <td>5</td>\n",
       "      <td>1</td>\n",
       "      <td>175.0</td>\n",
       "      <td>2</td>\n",
       "      <td>2</td>\n",
       "      <td>3</td>\n",
       "      <td>5</td>\n",
       "      <td>0</td>\n",
       "      <td>...</td>\n",
       "      <td>1</td>\n",
       "      <td>2</td>\n",
       "      <td>7.500000</td>\n",
       "      <td>40.300000</td>\n",
       "      <td>4</td>\n",
       "      <td>23.300000</td>\n",
       "      <td>20.300000</td>\n",
       "      <td>3.300000</td>\n",
       "      <td>51.000000</td>\n",
       "      <td>5</td>\n",
       "    </tr>\n",
       "  </tbody>\n",
       "</table>\n",
       "<p>3 rows × 37 columns</p>\n",
       "</div>"
      ],
      "text/plain": [
       "     Hypocotyl: Pigmentation  Leaf: Colour  Leaf: Hairiness  Leaf: Appearance  \\\n",
       "146                        0             2                5                 1   \n",
       "180                        1             1                5                 1   \n",
       "68                         1             2                5                 1   \n",
       "\n",
       "     Leaf: Gossypol Glands  Leaf: Nectaries  Leaf: Petiole Pigmentation  \\\n",
       "146                  208.0                1                           2   \n",
       "180                  158.0                2                           5   \n",
       "68                   175.0                2                           2   \n",
       "\n",
       "     Leaf: Shape  Plant: Stem Hairiness  Plant: Stem Pigmentation  ...    \\\n",
       "146            3                      5                         0  ...     \n",
       "180            3                      5                         0  ...     \n",
       "68             3                      5                         0  ...     \n",
       "\n",
       "     Seed: Fuzz  Seed: Fuzz Colour  Seed: Index (100 seed weight in grams)  \\\n",
       "146           2                  3                                7.420476   \n",
       "180           1                  2                                7.500000   \n",
       "68            1                  2                                7.500000   \n",
       "\n",
       "     Ginning (%)  Fibre: Colour  Fibre: Length (2.5% span length in mm)  \\\n",
       "146    35.275429              3                               24.619118   \n",
       "180    39.810000              4                               25.500000   \n",
       "68     40.300000              4                               23.300000   \n",
       "\n",
       "     Fibre: Strength (G/Tex)  Fibre: Fineness (micronaire value)  \\\n",
       "146                19.687745                            3.208333   \n",
       "180                21.100000                            3.500000   \n",
       "68                 20.300000                            3.300000   \n",
       "\n",
       "     Fibre: Uniformity (%)  Group  \n",
       "146              49.019608      3  \n",
       "180              48.000000      1  \n",
       "68               51.000000      5  \n",
       "\n",
       "[3 rows x 37 columns]"
      ]
     },
     "execution_count": 17,
     "metadata": {},
     "output_type": "execute_result"
    }
   ],
   "source": [
    "le         = defaultdict(LabelEncoder)\n",
    "\n",
    "data       = df.copy()\n",
    "data       = data.apply(lambda x: x if x.dtype != 'object' else le[x.name].fit_transform(x))\n",
    "\n",
    "data.sample(nsamples)"
   ]
  },
  {
   "cell_type": "code",
   "execution_count": 18,
   "metadata": {
    "collapsed": false
   },
   "outputs": [],
   "source": [
    "labels = data['Group'].unique()\n",
    "groups =   le['Group'].inverse_transform(labels)"
   ]
  },
  {
   "cell_type": "markdown",
   "metadata": {},
   "source": [
    "We can now plot a mutli-dimensional visualization of our data as follows:"
   ]
  },
  {
   "cell_type": "code",
   "execution_count": 19,
   "metadata": {
    "collapsed": false
   },
   "outputs": [],
   "source": [
    "def andrews_plot(df, target, labels):\n",
    "    ax         = andrews_curves(df, 'Group')\n",
    "    handles, _ = ax.get_legend_handles_labels()\n",
    "    \n",
    "    ax.set_title(\"Andrew's Plot\")\n",
    "    ax.set_xlabel('$t$')\n",
    "    ax.set_ylabel('$f_{x}(t)$')\n",
    "    ax.legend(handles, labels)\n",
    "    \n",
    "    plt.show()"
   ]
  },
  {
   "cell_type": "code",
   "execution_count": 20,
   "metadata": {
    "collapsed": false
   },
   "outputs": [
    {
     "data": {
      "image/png": "[encoded data removed]",
      "text/plain": [
       "<matplotlib.figure.Figure at 0x7f4e3728d588>"
      ]
     },
     "metadata": {},
     "output_type": "display_data"
    }
   ],
   "source": [
    "andrews_plot(data, 'Group', groups)"
   ]
  },
  {
   "cell_type": "markdown",
   "metadata": {},
   "source": [
    "where $$f_{x}(t) = \\frac{x^{(i)}_{0}}{\\sqrt{2}} + x^{(i)}_{1}\\sin{(t)} + x^{(i)}_{2}\\cos{(t)} + x^{(i)}_{3}\\sin{(2t)} + x^{(i)}_{3}\\cos{(2t)} + \\dots$$"
   ]
  },
  {
   "cell_type": "markdown",
   "metadata": {},
   "source": [
    "Argh! Plotting all our observations seem to overlap curves of some groups. Andrew's Plot is impressively clear for 20 observations or less. Let's sample about 20 random observations from our data set for a better picture."
   ]
  },
  {
   "cell_type": "code",
   "execution_count": 21,
   "metadata": {
    "collapsed": true
   },
   "outputs": [],
   "source": [
    "nobservations = 20"
   ]
  },
  {
   "cell_type": "markdown",
   "metadata": {},
   "source": [
    "Our data set consists of imbalanced observations for each class. We can calculate the percentage contribution of each group to our data set as follows:"
   ]
  },
  {
   "cell_type": "code",
   "execution_count": 22,
   "metadata": {
    "collapsed": false
   },
   "outputs": [
    {
     "data": {
      "image/png": "[encoded data removed]",
      "text/plain": [
       "<matplotlib.figure.Figure at 0x7f4e36e3e198>"
      ]
     },
     "metadata": {},
     "output_type": "display_data"
    }
   ],
   "source": [
    "frame = (df['Group'].value_counts() / len(df)) * 100\n",
    "frame.plot.pie(autopct = \"%.2f\", figsize = (6, 6))\n",
    "\n",
    "plt.axis('off')\n",
    "plt.show()"
   ]
  },
  {
   "cell_type": "markdown",
   "metadata": {},
   "source": [
    "When it comes to sampling our data set (including splitting our data set into training and testing sets), the ratio of each group's contribution must be consistent."
   ]
  },
  {
   "cell_type": "code",
   "execution_count": 23,
   "metadata": {
    "collapsed": true
   },
   "outputs": [],
   "source": [
    "from sklearn.model_selection import train_test_split"
   ]
  },
  {
   "cell_type": "code",
   "execution_count": 24,
   "metadata": {
    "collapsed": false
   },
   "outputs": [
    {
     "data": {
      "image/png": "[encoded data removed]",
      "text/plain": [
       "<matplotlib.figure.Figure at 0x7f4e36e6eb70>"
      ]
     },
     "metadata": {},
     "output_type": "display_data"
    }
   ],
   "source": [
    "y         = data['Group'].copy()\n",
    "_, sample = train_test_split(data, test_size = (nobservations/len(data)), stratify = y)\n",
    "\n",
    "andrews_plot(sample, 'Group', groups)"
   ]
  },
  {
   "cell_type": "markdown",
   "metadata": {},
   "source": [
    "#### Inference\n",
    "Andrew's Curves speaks volumes about our data set.\n",
    "* There aren't any irregular patterns within the curves of various groups which denotes absense of outliers.\n",
    "* Andrew's Curves highly depend on the order of importance of variables."
   ]
  },
  {
   "cell_type": "markdown",
   "metadata": {},
   "source": [
    "#### 4. Data Transformation\n",
    "Our data set consists of a mixture of both categorical as well as numerical features. However, many machine learning models understand inputs only in terms of numbers. In order to convert our categorical data into numerical data, we need to use some kind of encoding system.\n",
    "\n",
    "Let's assume the three kinds of categorical data we can come across:\n",
    "* **Ordinal**, where the order of categories are important - for instance, the importance of $bad$ could be comparatively less than that of the importance of $good$.\n",
    "* **Nominal**, where the order of categories are not important - for instance, $apple$, $banana$ or $orange$, etc.\n",
    "* **Dichotomous**, where there exists just two categories - for instance, $male$ or $female$, $yes$ or $no$, etc.\n",
    "\n",
    "In case of ordinal variables, `scikit-learn` has the `LabelEncoder` class that can be used for this purpose. Unless you aren't using any kind of comparision of variables on the way, a simple `LabelEncoder` would suffice (for visualizations, etc.)."
   ]
  },
  {
   "cell_type": "markdown",
   "metadata": {},
   "source": [
    "On analysing our data set, we can conclude that each categorical feature within our data set is clearly ***nominal*** and ***dichotomous*** in nature.\n",
    "\n",
    "Converting our nominal/dichotomous categories into something numeric, we use the **One-Hot Encoding** system. This kind of encoding system considers each nominal/dichotomous category as a seperate feature that takes a value either $1$ or $0$ if the corresponding feature holds that category or not.\n",
    "\n",
    "`pandas` helps us to convert our categorical data into One-Hot vectors using the `get_dummies` function. In statistics, a dummy variable is nothing but a variable that takes a value $1$ or $0$ to indiciate the presence or absense of some literal."
   ]
  },
  {
   "cell_type": "code",
   "execution_count": 25,
   "metadata": {
    "collapsed": false,
    "scrolled": true
   },
   "outputs": [
    {
     "data": {
      "text/html": [
       "<div>\n",
       "<table border=\"1\" class=\"dataframe\">\n",
       "  <thead>\n",
       "    <tr style=\"text-align: right;\">\n",
       "      <th></th>\n",
       "      <th>Leaf: Gossypol Glands</th>\n",
       "      <th>Plant: Height (cm)</th>\n",
       "      <th>Flower: Time of Flowering (50% of plants with at least one open flower)</th>\n",
       "      <th>Boll: Weight of Seed cotton/boll (grams)</th>\n",
       "      <th>Seed: Index (100 seed weight in grams)</th>\n",
       "      <th>Ginning (%)</th>\n",
       "      <th>Fibre: Length (2.5% span length in mm)</th>\n",
       "      <th>Fibre: Strength (G/Tex)</th>\n",
       "      <th>Fibre: Fineness (micronaire value)</th>\n",
       "      <th>Fibre: Uniformity (%)</th>\n",
       "      <th>...</th>\n",
       "      <th>Fibre: Colour Cream</th>\n",
       "      <th>Fibre: Colour Green</th>\n",
       "      <th>Fibre: Colour NA</th>\n",
       "      <th>Fibre: Colour White</th>\n",
       "      <th>Group BBR</th>\n",
       "      <th>Group JBWR</th>\n",
       "      <th>Group Marker</th>\n",
       "      <th>Group New</th>\n",
       "      <th>Group Okra</th>\n",
       "      <th>Group Variety</th>\n",
       "    </tr>\n",
       "  </thead>\n",
       "  <tbody>\n",
       "    <tr>\n",
       "      <th>152</th>\n",
       "      <td>148.0</td>\n",
       "      <td>67.42132</td>\n",
       "      <td>49.067358</td>\n",
       "      <td>2.994565</td>\n",
       "      <td>7.420476</td>\n",
       "      <td>35.275429</td>\n",
       "      <td>24.619118</td>\n",
       "      <td>19.687745</td>\n",
       "      <td>3.208333</td>\n",
       "      <td>49.019608</td>\n",
       "      <td>...</td>\n",
       "      <td>0</td>\n",
       "      <td>0</td>\n",
       "      <td>1</td>\n",
       "      <td>0</td>\n",
       "      <td>0</td>\n",
       "      <td>0</td>\n",
       "      <td>0</td>\n",
       "      <td>1</td>\n",
       "      <td>0</td>\n",
       "      <td>0</td>\n",
       "    </tr>\n",
       "    <tr>\n",
       "      <th>27</th>\n",
       "      <td>145.0</td>\n",
       "      <td>71.00000</td>\n",
       "      <td>53.000000</td>\n",
       "      <td>2.300000</td>\n",
       "      <td>6.000000</td>\n",
       "      <td>31.910000</td>\n",
       "      <td>23.300000</td>\n",
       "      <td>17.500000</td>\n",
       "      <td>2.700000</td>\n",
       "      <td>47.000000</td>\n",
       "      <td>...</td>\n",
       "      <td>0</td>\n",
       "      <td>0</td>\n",
       "      <td>0</td>\n",
       "      <td>1</td>\n",
       "      <td>0</td>\n",
       "      <td>0</td>\n",
       "      <td>1</td>\n",
       "      <td>0</td>\n",
       "      <td>0</td>\n",
       "      <td>0</td>\n",
       "    </tr>\n",
       "    <tr>\n",
       "      <th>88</th>\n",
       "      <td>122.0</td>\n",
       "      <td>55.00000</td>\n",
       "      <td>48.000000</td>\n",
       "      <td>3.100000</td>\n",
       "      <td>7.500000</td>\n",
       "      <td>34.200000</td>\n",
       "      <td>26.100000</td>\n",
       "      <td>20.400000</td>\n",
       "      <td>3.200000</td>\n",
       "      <td>46.000000</td>\n",
       "      <td>...</td>\n",
       "      <td>0</td>\n",
       "      <td>0</td>\n",
       "      <td>0</td>\n",
       "      <td>1</td>\n",
       "      <td>0</td>\n",
       "      <td>0</td>\n",
       "      <td>0</td>\n",
       "      <td>0</td>\n",
       "      <td>0</td>\n",
       "      <td>1</td>\n",
       "    </tr>\n",
       "  </tbody>\n",
       "</table>\n",
       "<p>3 rows × 125 columns</p>\n",
       "</div>"
      ],
      "text/plain": [
       "     Leaf: Gossypol Glands  Plant: Height (cm)  \\\n",
       "152                  148.0            67.42132   \n",
       "27                   145.0            71.00000   \n",
       "88                   122.0            55.00000   \n",
       "\n",
       "     Flower: Time of Flowering (50% of plants with at least one open flower)  \\\n",
       "152                                          49.067358                         \n",
       "27                                           53.000000                         \n",
       "88                                           48.000000                         \n",
       "\n",
       "     Boll: Weight of Seed cotton/boll (grams)  \\\n",
       "152                                  2.994565   \n",
       "27                                   2.300000   \n",
       "88                                   3.100000   \n",
       "\n",
       "     Seed: Index (100 seed weight in grams)  Ginning (%)  \\\n",
       "152                                7.420476    35.275429   \n",
       "27                                 6.000000    31.910000   \n",
       "88                                 7.500000    34.200000   \n",
       "\n",
       "     Fibre: Length (2.5% span length in mm)  Fibre: Strength (G/Tex)  \\\n",
       "152                               24.619118                19.687745   \n",
       "27                                23.300000                17.500000   \n",
       "88                                26.100000                20.400000   \n",
       "\n",
       "     Fibre: Fineness (micronaire value)  Fibre: Uniformity (%)      ...        \\\n",
       "152                            3.208333              49.019608      ...         \n",
       "27                             2.700000              47.000000      ...         \n",
       "88                             3.200000              46.000000      ...         \n",
       "\n",
       "     Fibre: Colour Cream  Fibre: Colour Green  Fibre: Colour NA  \\\n",
       "152                    0                    0                 1   \n",
       "27                     0                    0                 0   \n",
       "88                     0                    0                 0   \n",
       "\n",
       "     Fibre: Colour White  Group BBR  Group JBWR  Group Marker  Group New  \\\n",
       "152                    0          0           0             0          1   \n",
       "27                     1          0           0             1          0   \n",
       "88                     1          0           0             0          0   \n",
       "\n",
       "     Group Okra  Group Variety  \n",
       "152           0              0  \n",
       "27            0              0  \n",
       "88            0              1  \n",
       "\n",
       "[3 rows x 125 columns]"
      ]
     },
     "execution_count": 25,
     "metadata": {},
     "output_type": "execute_result"
    }
   ],
   "source": [
    "df_onehot = pd.get_dummies(df, prefix_sep = ' ')\n",
    "df_onehot.sample(nsamples)"
   ]
  },
  {
   "cell_type": "markdown",
   "metadata": {},
   "source": [
    "Such encoding schemes often tend to increase the number of features by a huge amount, thus adding a computation overhead on our learning models. In our case, these columns increased almost three times the initial number of columns (37 to 99)."
   ]
  },
  {
   "cell_type": "markdown",
   "metadata": {},
   "source": [
    "Since we'll be using a pipeline approach, we can use `sklearn's` `DictVectorizer` class for One-Hot Encoding."
   ]
  },
  {
   "cell_type": "code",
   "execution_count": 26,
   "metadata": {
    "collapsed": true
   },
   "outputs": [],
   "source": [
    "from sklearn.feature_extraction import DictVectorizer"
   ]
  },
  {
   "cell_type": "code",
   "execution_count": 28,
   "metadata": {
    "collapsed": true
   },
   "outputs": [],
   "source": [
    "df = df_onehot"
   ]
  },
  {
   "cell_type": "markdown",
   "metadata": {},
   "source": [
    "### Feature Scaling\n",
    "Assuming our data set, one possibly cannot compare say *fibre color* to *plant height*, that would be comparing apples to oranges. Our data set consists of incomparable features and hence must be squashed to some uniform range. We call this stage as ***Feature Scaling***.\n",
    "\n",
    "#### Normalization\n",
    "We can define our normalized data set within the range $[0, 1]$ as:\n",
    "$$X := \\frac{X - X_{min}}{X_{max} - X_{min}}$$\n",
    "\n",
    "where $X$ is our feature vector."
   ]
  },
  {
   "cell_type": "code",
   "execution_count": 29,
   "metadata": {
    "collapsed": false
   },
   "outputs": [
    {
     "data": {
      "text/html": [
       "<div>\n",
       "<table border=\"1\" class=\"dataframe\">\n",
       "  <thead>\n",
       "    <tr style=\"text-align: right;\">\n",
       "      <th></th>\n",
       "      <th>Leaf: Gossypol Glands</th>\n",
       "      <th>Plant: Height (cm)</th>\n",
       "      <th>Flower: Time of Flowering (50% of plants with at least one open flower)</th>\n",
       "      <th>Boll: Weight of Seed cotton/boll (grams)</th>\n",
       "      <th>Seed: Index (100 seed weight in grams)</th>\n",
       "      <th>Ginning (%)</th>\n",
       "      <th>Fibre: Length (2.5% span length in mm)</th>\n",
       "      <th>Fibre: Strength (G/Tex)</th>\n",
       "      <th>Fibre: Fineness (micronaire value)</th>\n",
       "      <th>Fibre: Uniformity (%)</th>\n",
       "      <th>...</th>\n",
       "      <th>Fibre: Colour Cream</th>\n",
       "      <th>Fibre: Colour Green</th>\n",
       "      <th>Fibre: Colour NA</th>\n",
       "      <th>Fibre: Colour White</th>\n",
       "      <th>Group BBR</th>\n",
       "      <th>Group JBWR</th>\n",
       "      <th>Group Marker</th>\n",
       "      <th>Group New</th>\n",
       "      <th>Group Okra</th>\n",
       "      <th>Group Variety</th>\n",
       "    </tr>\n",
       "  </thead>\n",
       "  <tbody>\n",
       "    <tr>\n",
       "      <th>61</th>\n",
       "      <td>0.827586</td>\n",
       "      <td>0.675325</td>\n",
       "      <td>0.695652</td>\n",
       "      <td>0.197368</td>\n",
       "      <td>0.385965</td>\n",
       "      <td>0.361274</td>\n",
       "      <td>0.112782</td>\n",
       "      <td>0.321101</td>\n",
       "      <td>0.56</td>\n",
       "      <td>0.692308</td>\n",
       "      <td>...</td>\n",
       "      <td>0.0</td>\n",
       "      <td>0.0</td>\n",
       "      <td>0.0</td>\n",
       "      <td>1.0</td>\n",
       "      <td>0.0</td>\n",
       "      <td>0.0</td>\n",
       "      <td>0.0</td>\n",
       "      <td>0.0</td>\n",
       "      <td>0.0</td>\n",
       "      <td>1.0</td>\n",
       "    </tr>\n",
       "    <tr>\n",
       "      <th>101</th>\n",
       "      <td>0.620690</td>\n",
       "      <td>0.389610</td>\n",
       "      <td>0.130435</td>\n",
       "      <td>0.210526</td>\n",
       "      <td>0.385965</td>\n",
       "      <td>0.481905</td>\n",
       "      <td>0.413534</td>\n",
       "      <td>0.697248</td>\n",
       "      <td>0.48</td>\n",
       "      <td>0.538462</td>\n",
       "      <td>...</td>\n",
       "      <td>0.0</td>\n",
       "      <td>0.0</td>\n",
       "      <td>0.0</td>\n",
       "      <td>1.0</td>\n",
       "      <td>0.0</td>\n",
       "      <td>0.0</td>\n",
       "      <td>0.0</td>\n",
       "      <td>0.0</td>\n",
       "      <td>0.0</td>\n",
       "      <td>1.0</td>\n",
       "    </tr>\n",
       "    <tr>\n",
       "      <th>36</th>\n",
       "      <td>0.324713</td>\n",
       "      <td>0.441558</td>\n",
       "      <td>1.000000</td>\n",
       "      <td>0.144737</td>\n",
       "      <td>0.649123</td>\n",
       "      <td>0.522425</td>\n",
       "      <td>0.218045</td>\n",
       "      <td>0.394495</td>\n",
       "      <td>0.28</td>\n",
       "      <td>0.769231</td>\n",
       "      <td>...</td>\n",
       "      <td>0.0</td>\n",
       "      <td>0.0</td>\n",
       "      <td>0.0</td>\n",
       "      <td>1.0</td>\n",
       "      <td>1.0</td>\n",
       "      <td>0.0</td>\n",
       "      <td>0.0</td>\n",
       "      <td>0.0</td>\n",
       "      <td>0.0</td>\n",
       "      <td>0.0</td>\n",
       "    </tr>\n",
       "  </tbody>\n",
       "</table>\n",
       "<p>3 rows × 125 columns</p>\n",
       "</div>"
      ],
      "text/plain": [
       "     Leaf: Gossypol Glands  Plant: Height (cm)  \\\n",
       "61                0.827586            0.675325   \n",
       "101               0.620690            0.389610   \n",
       "36                0.324713            0.441558   \n",
       "\n",
       "     Flower: Time of Flowering (50% of plants with at least one open flower)  \\\n",
       "61                                            0.695652                         \n",
       "101                                           0.130435                         \n",
       "36                                            1.000000                         \n",
       "\n",
       "     Boll: Weight of Seed cotton/boll (grams)  \\\n",
       "61                                   0.197368   \n",
       "101                                  0.210526   \n",
       "36                                   0.144737   \n",
       "\n",
       "     Seed: Index (100 seed weight in grams)  Ginning (%)  \\\n",
       "61                                 0.385965     0.361274   \n",
       "101                                0.385965     0.481905   \n",
       "36                                 0.649123     0.522425   \n",
       "\n",
       "     Fibre: Length (2.5% span length in mm)  Fibre: Strength (G/Tex)  \\\n",
       "61                                 0.112782                 0.321101   \n",
       "101                                0.413534                 0.697248   \n",
       "36                                 0.218045                 0.394495   \n",
       "\n",
       "     Fibre: Fineness (micronaire value)  Fibre: Uniformity (%)      ...        \\\n",
       "61                                 0.56               0.692308      ...         \n",
       "101                                0.48               0.538462      ...         \n",
       "36                                 0.28               0.769231      ...         \n",
       "\n",
       "     Fibre: Colour Cream  Fibre: Colour Green  Fibre: Colour NA  \\\n",
       "61                   0.0                  0.0               0.0   \n",
       "101                  0.0                  0.0               0.0   \n",
       "36                   0.0                  0.0               0.0   \n",
       "\n",
       "     Fibre: Colour White  Group BBR  Group JBWR  Group Marker  Group New  \\\n",
       "61                   1.0        0.0         0.0           0.0        0.0   \n",
       "101                  1.0        0.0         0.0           0.0        0.0   \n",
       "36                   1.0        1.0         0.0           0.0        0.0   \n",
       "\n",
       "     Group Okra  Group Variety  \n",
       "61          0.0            1.0  \n",
       "101         0.0            1.0  \n",
       "36          0.0            0.0  \n",
       "\n",
       "[3 rows x 125 columns]"
      ]
     },
     "execution_count": 29,
     "metadata": {},
     "output_type": "execute_result"
    }
   ],
   "source": [
    "# normalization\n",
    "df = (df - df.min()) / (df.max() - df.min())\n",
    "df.sample(nsamples)"
   ]
  },
  {
   "cell_type": "markdown",
   "metadata": {},
   "source": [
    "### Model Evaluation\n",
    "### Training/Testing Splits\n",
    "\n",
    "Our learning models require a unit that can quantify the overall performance of our model on our data set. Our training phase relies heavily on our data set and on our defined parameters (for parameteric models only) in order to build itself as a successful predictive model. However, using the entire data set would mean that our goal seems to be fitting our model to our data set alone, which was never the objective in the first place. Exhaustively utilizing the data set and tweaking parameters would possibly result in an ideal model and not a predictiion model. We call this as ***overfitting***, an ML engineer's worst nightmare.\n",
    "\n",
    "One good way to avoid this would be to split our data set into two parts of some defined ratio - a training set and a testing set. Random tuples from the data set can be added into our testing set that can be used to estimate how well our model performs for our data set. `scikit-learn` has a function called `train_test_split` under the `model_selection` module (in `scikit-learn 0.17` and before, the funciton is under the `cross_validation` module) that can divide a data set into a desired ratio of training and testing sets."
   ]
  },
  {
   "cell_type": "code",
   "execution_count": 30,
   "metadata": {
    "collapsed": false
   },
   "outputs": [],
   "source": [
    "from sklearn.model_selection import train_test_split"
   ]
  },
  {
   "cell_type": "markdown",
   "metadata": {},
   "source": [
    "Our data set consists of *multi-class* target variables that are imbalanced by proportion within the data set. `scikit-learn`'s `train_test_split` function has a parameter `stratify` that divides our data set with the same proportion of our target variables as it was in the complete data set. (this is generally used for multi-class variables only)\n",
    "\n",
    "We use the Pareto Principle (80-20 rule of thumb), i.e, we divide our data set in the ratio of $80:20$ training/testing split."
   ]
  },
  {
   "cell_type": "code",
   "execution_count": 31,
   "metadata": {
    "collapsed": false
   },
   "outputs": [],
   "source": [
    "columns_y = ['Group ' + group for group in groups]\n",
    "y         = df[columns_y].copy()\n",
    "\n",
    "train, test = train_test_split(data, stratify = y)"
   ]
  },
  {
   "cell_type": "markdown",
   "metadata": {},
   "source": [
    "Nevertheless, the clutches of *overfitting* still cling on to us. During our training phase, our parameters are tweaked in order to fit on our training set. In someway, a leak of information of the testing set occurs during our training set, thereby leading to an overfit. In order to avoid this, we could go one step further by creating yet another set called as a *validation set* that can be used to estimate our model's performance after our training phase, then moving towards our testing phase.\n",
    "\n",
    "Now, a split of our data set into three seperate entities (training, testing and a validation set) might decrease the the number of required training tuples, thereby limiting the overall performance of our learning model.\n",
    "\n",
    "#### Q. \"Alright! So how do we really avoid overfitting?\n",
    "This brings us to the concept of **Cross Validation** (CV)."
   ]
  },
  {
   "cell_type": "markdown",
   "metadata": {},
   "source": [
    "### Cross Validation\n",
    "Cross Validation helps us to answer the question, *\"how well does my learning model work on any independent data set?\"*\n",
    "\n",
    "#### K-fold Cross Validation\n",
    "We divide our data set into $K$ blocks. Then for each $i^{th}$ block (where $i = 1,2,...,K$), we assume the remaning $K - 1$ blocks to be our training set and $i$ to be our validation set for that given iteration. Hence, each block shall have $\\frac{u}{K}$ observations where $u$ is the total number of observations in our training set.\n",
    "\n",
    "A cumulative error (called as the Cross Validation Error) is calculated based on the errors recieved at each iteration from our validation set. Hence for any given model, our goal would be to minimize our Cross Validation Error.\n",
    "\n",
    "An ideal Cross Validation approach would be to divide our data set into $u$ blocks, i.e, $K = u$. We call this, **Leave One Out Cross Validation (LOOCV)**. For a data set with very limited observations, such an approach would be favourable but however in cases where we have millions of observations, an LOOCV would be computationally expensive. Typically, $K = 10$ (also known as 10-fold Cross Validation).\n",
    "\n",
    "`scikit-learn` has an extensive number of classes designated for various Cross Validation methods in its `model_selection` module."
   ]
  },
  {
   "cell_type": "markdown",
   "metadata": {},
   "source": [
    "Given that our problem is a *multi-class classification* problem, our data set seems to hold an imbalanced number of samples for each given class. In order to ensure that for each fold, the relative frequencies of each class are preserved for our training and validation sets, `scikit-learn` has a decent class called `StratifiedKFold` which helps us to preserve the percentage of each sample for each class."
   ]
  },
  {
   "cell_type": "code",
   "execution_count": 32,
   "metadata": {
    "collapsed": true
   },
   "outputs": [],
   "source": [
    "from sklearn.model_selection import StratifiedKFold"
   ]
  },
  {
   "cell_type": "markdown",
   "metadata": {},
   "source": [
    "### Feature Selection\n",
    "Not all features play an impressive role for our prediction model. We can get done away with features that are redundant and have no appreciable affect over our model's prediction. Feature Selection decreases the possibility of overfitting, improves our training time (lesser the number of features, lesser the computation required for learning), simplicity and relavancy.\n",
    "\n",
    "Our data set consists of 36 features, 1 label and 191 observations. While this may not sound a lot, a large number of data sets used for building prediction models may have an extensive number of features and observations. In our case, there may exists features that may impact the overall performance of our models.\n",
    "\n",
    "So, how do we go about it?"
   ]
  },
  {
   "cell_type": "markdown",
   "metadata": {},
   "source": [
    "#### All Subsets"
   ]
  },
  {
   "cell_type": "markdown",
   "metadata": {},
   "source": [
    "### Confusion Matrix"
   ]
  },
  {
   "cell_type": "markdown",
   "metadata": {},
   "source": [
    "## k-Nearest Neighbors (k-NN)\n",
    "\n",
    "Being one of the most simplest of all machine learning algorithms, k-Nearest Neighbors (in short, k-NN) is a no-brainer. k-NN is a non-parametric approach which in simpler terms means that its performance solely depends on our data set. This encourages a more flexible model that can distinguish boundaries even better.\n",
    "\n",
    "Why so?\n",
    "\n",
    "Remember in the case of our Linear Regressor, a single tweak in any one of the parameters in our parameter set led our entire boundary (lines or hyperplanes) to change with respect to our $x$'s and $y$'s. Imagine a function $f(x)$ which shows a linear relationship, followed by constant relationship and eventually rises exponentially. Clearly fitting a parametric model for a such a function would be herculean; which is why we have non-parametric models that aim to fit themselves within each of these local relationships that exists within a data set thereby having a high dependency on it. Also, this raises yet another criteria for non-parametric models that they possess a high dependency on a data set of sufficient size.\n",
    "\n",
    "k-Nearest Neighbors can be defined in a layman's terms as follows:\n",
    "> *find k points within the feature space that is closest to our point*"
   ]
  },
  {
   "cell_type": "markdown",
   "metadata": {},
   "source": [
    "#### Voronoi Tesselation\n",
    "A Voronoi Diagram denotes partitioning of points (also called as seeds, sites or generators) into regions such that the region holds all points that is closest to a particular point."
   ]
  },
  {
   "cell_type": "markdown",
   "metadata": {},
   "source": [
    "## Support Vector Machines (SVM)"
   ]
  },
  {
   "cell_type": "markdown",
   "metadata": {},
   "source": [
    "### Problems\n",
    "[[1]](#Problem-1) ***Titanic: Machine Learning from Disaster***: Predict one's survival on the Titanic"
   ]
  },
  {
   "cell_type": "markdown",
   "metadata": {},
   "source": [
    "#### Problem 1\n",
    "> ***Titanic: Machine Learning from Disaster***: Predict one's survival on the Titanic\n",
    "\n",
    "We begin moving towards our first Kaggle problem, somewhat a *\"Hello, World!\"* substitute for Data Science. Before even begining to articulate a well-defined problem statement, I suggest you try to flush out everything you know about the Titanic, including the movie. Forget all observations and inferences you made or can make if you heard the word - *Titanic*. Let's assume we're given no other information except the title stated above and a training and testing data set.\n",
    "\n",
    "***Q. \"Why? I don't get it.\"***\n",
    "\n",
    "Whenever you aim towards attacking any problem in Data Science, remind yourself that you're nothing more than just a Data Scientist or Machine Learning Engineer (in the making). Our expertise is limited within the boundaries of our domain and any kind of preconcieved notions or knowledge about our data set tends to restrict our observations towards that direction. Many a times, data sets exhibit relations that goes unnoticed by the domain it belongs to. And that is what data analysis is for. Below is a great talk on *Data Agnosticism: Feature Engineering Without Domain Expertise* by Nicolas Kridler.\n",
    "\n",
    "[![](http://img.youtube.com/vi/bL4b1sGnILU/0.jpg)](http://www.youtube.com/watch?v=bL4b1sGnILU)\n",
    "\n",
    "One of the main takeaway from the talk is that *let the machine make sense of what it takes*."
   ]
  },
  {
   "cell_type": "markdown",
   "metadata": {},
   "source": [
    "Let's load our data set into Pandas' DataFrame Objects. I've created a function called `load_titanic()` that returns a dictionary holding 2 data frames, one for our training set while the other for our testing set."
   ]
  },
  {
   "cell_type": "code",
   "execution_count": null,
   "metadata": {
    "collapsed": true
   },
   "outputs": [],
   "source": [
    "def load_titanic():\n",
    "    path = {\n",
    "        'train': './data/titanic/train.csv',\n",
    "        'test' : './data/titanic/test.csv'\n",
    "    }\n",
    "    \n",
    "    df   = { \n",
    "        'train': pd.read_csv(path['train']),\n",
    "        'test' : pd.read_csv(path['test'])\n",
    "    }\n",
    "    \n",
    "    return df"
   ]
  },
  {
   "cell_type": "markdown",
   "metadata": {},
   "source": [
    "Let's view our training set for now."
   ]
  },
  {
   "cell_type": "markdown",
   "metadata": {
    "collapsed": true
   },
   "source": [
    "## References\n",
    "[[1]](http://page.mi.fu-berlin.de/prechelt/Biblio/jccpprt_computer2000.pdf) Prechelt, Lutz. *An Empirical Comparison of C, C , Java, Perl, Python, Rexx, and Tcl for a Search, String Processing Program.* Karlsruhe: U, Fak. Für Informatik, 2000.\n",
    "\n",
    "[[2]](http://repository.cmu.edu/cgi/viewcontent.cgi?article=2874&context=compsci) Pomerleau, Dean A. *ALVINN, an Autonomous Land Vehicle in a Neural Network.* Pittsburgh, PA: Carnegie Mellon U, Computer Science Dept., 1989.\n",
    "\n",
    "[[3]](http://www.theverge.com/2016/3/24/11297050/tay-microsoft-chatbot-racist) Twitter taught Microsoft’s AI chatbot to be a racist asshole in less than a day - The Verge\n",
    "\n",
    "[[4]](http://www.independent.co.uk/life-style/gadgets-and-tech/news/stephen-hawking-artificial-intelligence-could-wipe-out-humanity-when-it-gets-too-clever-as-humans-a6686496.html) Stephen Hawking: Artificial intelligence could wipe out humanity when it gets too clever as humans will be like ants\n",
    "\n",
    "[[5]](https://archive.ics.uci.edu/ml/datasets/Housing) UCI Machine Learning Repository - Housing Data Set\n",
    "\n",
    "\n",
    "\n",
    "[[6]](http://cs224d.stanford.edu/lecture_notes/LectureNotes3.pdf) Lecture Notes 3 on *Deep Learning for NLP* - CS Stanford \n",
    "\n",
    "[[7]](http://yann.lecun.com/exdb/publis/pdf/lecun-98b.pdf) Lecun, Yann, Leon Bottou, Genevieve B. Orr, and Klaus Robert Müller. *Efficient BackProp.* 1998\n",
    "\n",
    "[[8]](http://stats.stackexchange.com/questions/115258/comprehensive-list-of-activation-functions-in-neural-networks-with-pros-cons) Comprehensive list of activation functions in neural networks with pros/cons\n",
    "\n",
    "[[9]](http://stackoverflow.com/questions/20027598/why-should-weights-of-neural-networks-be-initialized-to-random-numbers) Why should weights of Neural Networks be initialized to random numbers?\n",
    "\n",
    "[[10]](http://stats.stackexchange.com/questions/154879/a-list-of-cost-functions-used-in-neural-networks-alongside-applications) A list of cost functions used in neural networks, alongside applications\n",
    "\n",
    "[[11]](https://www.youtube.com/watch?v=56TYLaQN4N8) YouTube Lecture on *Deep Learning Lecture 12: Recurrent Neural Nets and LSTMs* by Nando de Freitas\n",
    "\n",
    "[[12]](http://www.comp.dit.ie/btierney/BSI/Han%20Book%20Ch3%20DataExploration.pdf) Data Preprocessing\n",
    "\n",
    "[[13]](http://krishikosh.egranth.ac.in/bitstream/1/64144/1/CCSHAU-Harish%20S.pdf) Varietal Identification And Seed Vigour Assessment In Cotton - Dr. Harish S."
   ]
  }
 ],
 "metadata": {
  "kernelspec": {
   "display_name": "Python 3",
   "language": "python",
   "name": "python3"
  },
  "language_info": {
   "codemirror_mode": {
    "name": "ipython",
    "version": 3
   },
   "file_extension": ".py",
   "mimetype": "text/x-python",
   "name": "python",
   "nbconvert_exporter": "python",
   "pygments_lexer": "ipython3",
   "version": "3.5.2"
  }
 },
 "nbformat": 4,
 "nbformat_minor": 1
}
